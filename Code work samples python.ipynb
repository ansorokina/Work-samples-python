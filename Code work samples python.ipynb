{
 "cells": [
  {
   "cell_type": "code",
   "execution_count": 12,
   "metadata": {},
   "outputs": [
    {
     "name": "stdout",
     "output_type": "stream",
     "text": [
      "1701847040368\n",
      "1701847040528\n",
      "1701960692928\n",
      "[10]\n",
      "1701960692928 [10]\n",
      "[11]\n"
     ]
    }
   ],
   "source": [
    "x = 5\n",
    "print(id(x))\n",
    "x = x +5\n",
    "print(id(x))\n",
    "liste = [5]\n",
    "print(id(liste)), id(liste[0])\n",
    "liste[0]+= 5\n",
    "print(liste)\n",
    "def add(y):\n",
    "    y[0] += 1\n",
    "print (id(liste), liste)\n",
    "add(liste)\n",
    "print (liste)\n",
    "    "
   ]
  },
  {
   "cell_type": "code",
   "execution_count": 3,
   "metadata": {},
   "outputs": [
    {
     "name": "stdout",
     "output_type": "stream",
     "text": [
      "42 17 4 33\n"
     ]
    }
   ],
   "source": [
    "def funktion(x,y):\n",
    "    global a\n",
    "    a = 42\n",
    "    c = x\n",
    "    x = y\n",
    "    y = c\n",
    "    b = 33\n",
    "    def funktion_verschachtelt():\n",
    "        global b\n",
    "        b = b + c\n",
    "        return  1 + b\n",
    "    b = 17\n",
    "    y = funktion_verschachtelt()\n",
    "    z = 100\n",
    "    print(a,b,x,y)\n",
    "a,b,x,y = 1,15,3,4\n",
    "funktion(17,4)\n"
   ]
  },
  {
   "cell_type": "code",
   "execution_count": 14,
   "metadata": {},
   "outputs": [
    {
     "name": "stdout",
     "output_type": "stream",
     "text": [
      "[-352, -94, -2, 1, 1, 2, 2, 3, 6, 7, 7, 31, 99, 123, 323]\n",
      "[3, 7, 2, 2, 7, 99, -352, -2, 1, 6, 123, 31, 1, 323, -94]\n",
      "<list_reverseiterator object at 0x000002D8D0ECCA90>\n",
      "[-94, 323, 1, 31, 123, 6, 1, -2, -352, 99, 7, 2, 2, 7, 3]\n",
      "[3, 7, 2, 2, 7, 99, -352, -2, 1, 6, 123, 31, 1, 323, -94]\n",
      "157\n",
      "6\n",
      "323\n",
      "-352\n"
     ]
    }
   ],
   "source": [
    "#Build-in Funktionen\n",
    "liste = [3,7,2,2,7,99,-352,-2,1,6,123,31,1,323,-94]\n",
    "s = sorted(liste)\n",
    "print(s)\n",
    "print(liste)\n",
    "liste_2 = [1,2,3]\n",
    "r = reversed(liste_2)\n",
    "print(r)\n",
    "print(list(reversed(liste)))\n",
    "print(str(liste))\n",
    "print(sum(liste))\n",
    "print(sum(liste_2))\n",
    "print(max(liste))\n",
    "print(min(liste))"
   ]
  },
  {
   "cell_type": "code",
   "execution_count": 3,
   "metadata": {},
   "outputs": [
    {
     "name": "stdout",
     "output_type": "stream",
     "text": [
      "101;102;103;201;202\n",
      "['101', '102', '103', '201', '202']\n"
     ]
    }
   ],
   "source": [
    "#Methoden auf Strings\n",
    "string =\"101:102:103:201:202\"\n",
    "string = string.replace( \":\", \";\" )\n",
    "print(string)\n",
    "erste_reihe = string.split(\";\")\n",
    "print(erste_reihe)\n"
   ]
  },
  {
   "cell_type": "code",
   "execution_count": 34,
   "metadata": {},
   "outputs": [
    {
     "name": "stdout",
     "output_type": "stream",
     "text": [
      "C++ als Spaß mehr viel macht python\n"
     ]
    }
   ],
   "source": [
    "# 3. Schreibe eine Funktion \"umdrehen\", welche die Wörter eines Satzes in umgekehrter Reihenfolge ausgibt. Nutze die Funktionen reversed() und split(). \n",
    "def umdrehen(satz):\n",
    "    woerter = satz.split(\" \")\n",
    "    um_satz = \" \".join(reversed(woerter))\n",
    "    return um_satz\n",
    "    \n",
    "satz = \"python macht viel mehr Spaß als C++\"\n",
    "print(umdrehen(satz))\n",
    "\n",
    "\n"
   ]
  },
  {
   "cell_type": "code",
   "execution_count": 41,
   "metadata": {},
   "outputs": [
    {
     "name": "stdout",
     "output_type": "stream",
     "text": [
      "202:201:103:102:101\n"
     ]
    }
   ],
   "source": [
    "\n",
    "def umdrehen(string):\n",
    "\n",
    "    s = string.split(\":\")\n",
    "    r = \":\".join(reversed(s))\n",
    "    return r\n",
    "    string = \"101:102:103:201:202\"\n",
    "\n",
    "print(umdrehen(string))"
   ]
  },
  {
   "cell_type": "code",
   "execution_count": 43,
   "metadata": {},
   "outputs": [
    {
     "name": "stdout",
     "output_type": "stream",
     "text": [
      "['1', '0', '1', ':', '1', '0', '2', ':', '1', '0', '3', ':', '2', '0', '1', ':', '2', '0', '2']\n"
     ]
    }
   ],
   "source": [
    "string = \"101:102:103:201:202\"\n",
    "print(list(string))"
   ]
  },
  {
   "cell_type": "code",
   "execution_count": 44,
   "metadata": {},
   "outputs": [
    {
     "name": "stdout",
     "output_type": "stream",
     "text": [
      "['101', '102', '103', '201', '202']\n"
     ]
    }
   ],
   "source": [
    "string = \"101:102:103:201:202\"\n",
    "liste = string.split(\":\")\n",
    "print(liste)"
   ]
  },
  {
   "cell_type": "code",
   "execution_count": 59,
   "metadata": {},
   "outputs": [
    {
     "name": "stdout",
     "output_type": "stream",
     "text": [
      "Strings sind super\n",
      "Strings Sind Super\n",
      "Hi Welt\n",
      "HALLO WELT\n"
     ]
    }
   ],
   "source": [
    "s = \"STRINGS SIND SUPER\"\n",
    "k = s.lower()\n",
    "b = s.capitalize()\n",
    "print(b)\n",
    "c = s.title()\n",
    "print(c)\n",
    "a = \"Hallo Welt\"\n",
    "l = a.replace(\"Hallo\", \"Hi\")\n",
    "print(l)\n",
    "h = a.upper()\n",
    "print(h)"
   ]
  },
  {
   "cell_type": "code",
   "execution_count": 68,
   "metadata": {},
   "outputs": [
    {
     "name": "stdout",
     "output_type": "stream",
     "text": [
      "Dieter isst am liebsten vegetarisches grobes Hacksteak\n",
      "Dieter isst am liebsten vegetarisches grobes Steak\n",
      "Dieter isst am liebsten vegetarisches Steak \n",
      "Hallo Anna\n",
      "Hallo {Anna}\n"
     ]
    }
   ],
   "source": [
    "# String Formattierung\n",
    "name = \"Dieter\"\n",
    "essen = \"vegetarisches grobes Hacksteak\"\n",
    "string = name + \" isst am liebsten \" + essen\n",
    "print(string)\n",
    "\n",
    "name = \"Dieter\"\n",
    "essen = \"vegetarisches grobes Hacksteak\"\n",
    "string = \"{} isst am liebsten {}\"\n",
    "print(string.format(\"Dieter\", \"vegetarisches grobes Steak\"))\n",
    "\n",
    "\n",
    "string = \"{name} isst am liebsten {essen} \" \n",
    "print(string.format(name =\"Dieter\", essen = \"vegetarisches Steak\"))\n",
    "\n",
    "s =\"Hallo {}\"\n",
    "print(s.format(\"Anna\"))\n",
    "print(s.format(\"{Anna}\"))"
   ]
  },
  {
   "cell_type": "code",
   "execution_count": 80,
   "metadata": {},
   "outputs": [
    {
     "name": "stdout",
     "output_type": "stream",
     "text": [
      "6\n",
      "24\n"
     ]
    }
   ],
   "source": [
    "# Explixite Typkonvertierung\n",
    "def addition():\n",
    "    zahl_1 = int(input(\"Geben Sie die erste Zahl ein\"))\n",
    "    zahl_2 = int(input(\"Geben Sie die zweite Zahl ein\"))        \n",
    "    print(zahl_1 + zahl_2)\n",
    "addition()\n",
    "\n",
    "def addition():\n",
    "    zahl_1 = input()\n",
    "    zahl_2 = input()        \n",
    "    print(zahl_1 + zahl_2)\n",
    "addition()\n"
   ]
  },
  {
   "cell_type": "code",
   "execution_count": 89,
   "metadata": {},
   "outputs": [
    {
     "name": "stdout",
     "output_type": "stream",
     "text": [
      "<class 'int'>\n",
      "<class 'str'>\n",
      "456.0\n",
      "<class 'float'>\n"
     ]
    }
   ],
   "source": [
    "zahl_int = 123\n",
    "zahl_str = \"456\"\n",
    "print(type(zahl_int))\n",
    "print(type(zahl_str))\n",
    "zahl_float = float(zahl_str)\n",
    "print(zahl_float)\n",
    "addieren = zahl_float + zahl_int\n",
    "print(type(addieren))\n"
   ]
  },
  {
   "cell_type": "code",
   "execution_count": 91,
   "metadata": {},
   "outputs": [
    {
     "name": "stdout",
     "output_type": "stream",
     "text": [
      "6.41\n"
     ]
    }
   ],
   "source": [
    "# Implizite Typkonvertierung\n",
    "s = str(5+1.41)\n",
    "print(s)"
   ]
  },
  {
   "cell_type": "code",
   "execution_count": null,
   "metadata": {},
   "outputs": [],
   "source": [
    "# Slicing einer Liste\n",
    "liste = [1,2,3,4,5,6,7,8,9]\n",
    "print(liste[::2])\n",
    "print(len(liste))\n",
    "print(liste[5:])\n",
    "print(liste[-4:])\n",
    "print(liste[-2])"
   ]
  },
  {
   "cell_type": "code",
   "execution_count": 125,
   "metadata": {},
   "outputs": [
    {
     "name": "stdout",
     "output_type": "stream",
     "text": [
      " Die Teilsequez [3, 5, 1] hat den Durchschnitt 3.0!\n",
      " Die Teilsequez [5, 1, 4] hat den Durchschnitt 3.3333333333333335!\n",
      " Die Teilsequez [1, 4, 6] hat den Durchschnitt 3.6666666666666665!\n",
      " Die Teilsequez [4, 6, 7] hat den Durchschnitt 5.666666666666667!\n",
      " Die Teilsequez [6, 7, 32] hat den Durchschnitt 15.0!\n",
      " Die Teilsequez [7, 32, 42] hat den Durchschnitt 27.0!\n",
      " Die Teilsequez [32, 42, 2] hat den Durchschnitt 25.333333333333332!\n",
      " Die Teilsequez [42, 2, 52] hat den Durchschnitt 32.0!\n",
      " Die Teilsequez [2, 52, 45] hat den Durchschnitt 33.0!\n",
      " Die Teilsequez [52, 45, 7] hat den Durchschnitt 34.666666666666664!\n",
      " Die Teilsequez [45, 7, 34] hat den Durchschnitt 28.666666666666668!\n",
      " Die Teilsequez [7, 34, 13] hat den Durchschnitt 18.0!\n",
      " Die Teilsequez [34, 13, 41] hat den Durchschnitt 29.333333333333332!\n",
      " Die Teilsequez [13, 41, 34] hat den Durchschnitt 29.333333333333332!\n",
      " Die Teilsequez [41, 34, 7] hat den Durchschnitt 27.333333333333332!\n",
      " Die Teilsequez [34, 7, 25] hat den Durchschnitt 22.0!\n",
      " Die Teilsequez [7, 25, 6] hat den Durchschnitt 12.666666666666666!\n",
      " Die Teilsequez [25, 6] hat den Durchschnitt 10.333333333333334!\n",
      " Die Teilsequez [6] hat den Durchschnitt 2.0!\n"
     ]
    }
   ],
   "source": [
    "# Slising\n",
    "# 4. Berechne für jede volle Teilsequenz mit drei Elementen ([1. Element, 2. Element, 3. Element], [2. Element, 3. Element, 4. Element] usw.) den Durchschnitt und gib diesen aus. Nutze den Slicing-Operator! Gib die Teilsequenz und den Durchschnitt mit der format-Methode von Strings aus.\n",
    " \n",
    "liste = [3, 5, 1, 4, 6, 7, 32, 42, 2, 52, 45, 7, 34, 13, 41, 34, 7, 25, 6]\n",
    "i = 0\n",
    "string = \" Die Teilsequez {seq} hat den Durchschnitt {schnitt}!\"\n",
    "while i < len(liste):\n",
    "    teilseq =liste [i:i+3]\n",
    "    print(string.format(seq = teilseq, schnitt = sum(teilseq) / 3))\n",
    "    i+=1\n",
    "if len(liste) < 3:\n",
    "    pass"
   ]
  },
  {
   "cell_type": "code",
   "execution_count": 20,
   "metadata": {},
   "outputs": [
    {
     "name": "stdout",
     "output_type": "stream",
     "text": [
      "True\n",
      "False\n",
      "True\n"
     ]
    }
   ],
   "source": [
    "# 5. Schreibe eine Funktion, die ausgibt, ob ein gegebener Satz ohne Leer- und Satzzeichen ein Palindrom ist. (Ein Palindrom ist eine Zeichenfolge, die vorwärts und rückwärts die gleiche Buchstabenreihenfolge hat).\n",
    "satz_1 = \"Amok Oma\"\n",
    "satz_2 = \"Amok Opa\"\n",
    "satz_3 = \"Der Freibierfred\"\n",
    "test = [satz_1, satz_2, satz_3]\n",
    "def check_palindrom(satz):\n",
    "    #Lösche alle Leerzeichen\n",
    "    satz = satz.replace(\" \", \"\")\n",
    "    satz = satz.lower()\n",
    "    # Slice die erste Hälfte\n",
    "    erste_hälfte = satz [0:int(len(satz)/2)]\n",
    "    # Prüfe, ob es eine ungerade Anzehl von Buchstaben gibt und überspringe das mittlere Element, falls ungerade\n",
    "    if len (satz)%2 == 1:\n",
    "        zweite_hälfte = satz [(int(len(satz)/2)+1): len(satz)]\n",
    "    else:\n",
    "        zweite_hälfte = satz [(int(len(satz)/2)):len(satz)]\n",
    "        # Drehe die zweite Hälfte um\n",
    "    dreh_zweite_hälfte = zweite_hälfte[::-1]\n",
    "    print(erste_hälfte == dreh_zweite_hälfte)\n",
    "for string in test:\n",
    "    check_palindrom (string)"
   ]
  },
  {
   "cell_type": "code",
   "execution_count": 20,
   "metadata": {},
   "outputs": [
    {
     "name": "stdout",
     "output_type": "stream",
     "text": [
      "[1, 2, 3, 4, 5, 6, 7, 8, 9, 10]\n",
      "[-1, -2, -3, -4, -5, -6, -7, -8, -9, -10]\n",
      "[2, 9, 16, 23, 30, 37, 44, 51, 58, 65, 72]\n",
      "[-10, -9, -8, -7, -6, -5, -4, -3, -2, -1, 0, 1, 2, 3, 4, 5, 6, 7, 8, 9, 10]\n",
      "[10, 9, 8, 7, 6, 5, 4, 3, 2, 1, 0, -1, -2, -3, -4, -5, -6, -7, -8, -9, -10]\n",
      "[1000, 900, 800, 700, 600, 500, 400, 300, 200, 100, 0, -100, -200, -300, -400, -500, -600, -700, -800, -900, -1000]\n"
     ]
    }
   ],
   "source": [
    "print(list(range(1,11)))\n",
    "print(list(range(-1,-11, -1)))\n",
    "print(list(range(2,73,7)))\n",
    "print(list(range(-10, 11)))\n",
    "print(list(range(10,-11, -1)))\n",
    "print(list(range(1000, -1001, -100)))"
   ]
  },
  {
   "cell_type": "code",
   "execution_count": 7,
   "metadata": {},
   "outputs": [
    {
     "name": "stdout",
     "output_type": "stream",
     "text": [
      "[1, 2, 4]\n",
      "[3, 1, 2]\n"
     ]
    }
   ],
   "source": [
    "liste = [3,1,2,4]\n",
    "liste.remove (3)\n",
    "print(liste)\n",
    "test = [3,1,2,3]\n",
    "test.pop()\n",
    "print(test)"
   ]
  },
  {
   "cell_type": "code",
   "execution_count": 1,
   "metadata": {},
   "outputs": [
    {
     "name": "stdout",
     "output_type": "stream",
     "text": [
      "[0, 4, 8, 12, 16, 20, 24, 28, 32, 36, 40]\n",
      "[0, 4, 8, 12, 20, 24, 28, 32, 36, 40]\n",
      "[0, 4, 8, 12, 20, 24, 28, 32, 36, 40, 4]\n",
      "[0, 8, 12, 20, 24, 28, 32, 36, 40, 4]\n",
      "[0, 8, 12, 20]\n",
      "[0, 7, 8, 12, 20]\n"
     ]
    }
   ],
   "source": [
    "liste = list(range(0,44,4))\n",
    "print(liste)\n",
    "liste.pop(4)\n",
    "print(liste)\n",
    "liste.extend([4])\n",
    "print(liste)\n",
    "liste.remove(4)\n",
    "print(liste)\n",
    "del liste[4:]\n",
    "print(liste)\n",
    "liste.insert (1, 7)\n",
    "print(liste)"
   ]
  },
  {
   "cell_type": "code",
   "execution_count": 2,
   "metadata": {},
   "outputs": [
    {
     "name": "stdout",
     "output_type": "stream",
     "text": [
      "1\n"
     ]
    }
   ],
   "source": [
    "liste = [\"a\",\"b\",\"c\"]\n",
    "print(liste.index(\"b\"))"
   ]
  },
  {
   "cell_type": "code",
   "execution_count": 31,
   "metadata": {},
   "outputs": [
    {
     "name": "stdout",
     "output_type": "stream",
     "text": [
      "[0, 2, 4, 6]\n",
      "[0, 2, 6]\n",
      "[0, 2, 5, 6]\n",
      "[0, 2, 5, 6, 'Hallo']\n",
      "[0]\n",
      "[0, 'H', 'a', 'l', 'l', 'o']\n",
      "[0, 'H', 'a', 'l', 'l', 'o', 0, 8]\n",
      "['H', 'a', 'l', 'l', 'o', 0, 8]\n",
      "[0, 8]\n",
      "[0]\n",
      "[0, 2, 4, -4, -2, 0]\n"
     ]
    }
   ],
   "source": [
    "liste = [0,2,4,6,8]\n",
    "liste.pop ()\n",
    "print(liste)\n",
    "liste.pop (2)\n",
    "print(liste)\n",
    "liste.insert(2,5)\n",
    "print(liste)\n",
    "liste.extend ([\"Hallo\"])\n",
    "print(liste)\n",
    "del liste [1:]\n",
    "print(liste)\n",
    "liste.extend(\"Hallo\")\n",
    "print(liste)\n",
    "liste.extend ([0,8])\n",
    "print(liste)\n",
    "liste.pop(0)\n",
    "print(liste)\n",
    "del liste [:5]\n",
    "print(liste)\n",
    "liste.pop()\n",
    "print(liste)\n",
    "liste.extend([2,4,-4, -2,0])\n",
    "print(liste)"
   ]
  },
  {
   "cell_type": "code",
   "execution_count": 34,
   "metadata": {},
   "outputs": [
    {
     "name": "stdout",
     "output_type": "stream",
     "text": [
      "[1, 2, 3]\n",
      "[1, 2, 3, -4, -2, 0]\n"
     ]
    }
   ],
   "source": [
    "liste = [1, 2, 3, \"Hallo\"]\n",
    "liste.remove(\"Hallo\")\n",
    "print(liste)\n",
    "liste.extend(list(range(-4,1,2)))\n",
    "print(liste)"
   ]
  },
  {
   "cell_type": "code",
   "execution_count": 12,
   "metadata": {},
   "outputs": [
    {
     "name": "stdout",
     "output_type": "stream",
     "text": [
      "Geben Sie eine ganze Zahl ein\n",
      "5\n"
     ]
    }
   ],
   "source": [
    "#B1 Funktionen\n",
    "#1\n",
    "def zahl_einlesen ():\n",
    "    print(\"Geben Sie eine ganze Zahl ein\")\n",
    "    zahl = input()\n",
    "    print(int(zahl))\n",
    "zahl_einlesen()\n",
    "    "
   ]
  },
  {
   "cell_type": "code",
   "execution_count": 11,
   "metadata": {},
   "outputs": [
    {
     "data": {
      "text/plain": [
       "7.222222222222222"
      ]
     },
     "execution_count": 11,
     "metadata": {},
     "output_type": "execute_result"
    }
   ],
   "source": [
    "#B1\n",
    "#2\n",
    "def celsius_zu_fahrenheit():\n",
    "    celsius = input()\n",
    "    celsius = float(celsius)\n",
    "    fahrenheit = (celsius * 5) / 9\n",
    "    return fahrenheit \n",
    "celsius_zu_fahrenheit()\n"
   ]
  },
  {
   "cell_type": "code",
   "execution_count": 13,
   "metadata": {},
   "outputs": [
    {
     "data": {
      "text/plain": [
       "-10.0"
      ]
     },
     "execution_count": 13,
     "metadata": {},
     "output_type": "execute_result"
    }
   ],
   "source": [
    "#B1\n",
    "#3\n",
    "def fahrenheit_zu_celsius():\n",
    "    fahrenheit = input()\n",
    "    fahrenheit = float(fahrenheit)\n",
    "    celsius = ((fahrenheit -32) *5) / 9\n",
    "    return celsius\n",
    "fahrenheit_zu_celsius()\n"
   ]
  },
  {
   "cell_type": "code",
   "execution_count": 17,
   "metadata": {},
   "outputs": [
    {
     "name": "stdout",
     "output_type": "stream",
     "text": [
      "Geben Sie 'F nach C' oder 'C nach F' in die Konsole ein \n"
     ]
    },
    {
     "data": {
      "text/plain": [
       "'F nach C'"
      ]
     },
     "execution_count": 17,
     "metadata": {},
     "output_type": "execute_result"
    }
   ],
   "source": [
    "#B1\n",
    "#4\n",
    "def modus_einlesen():\n",
    "    print(\"Geben Sie 'F nach C' oder 'C nach F' in die Konsole ein \")\n",
    "    eingabe = input()\n",
    "    eingabe = str(eingabe)\n",
    "    return eingabe \n",
    "modus_einlesen()"
   ]
  },
  {
   "cell_type": "code",
   "execution_count": 21,
   "metadata": {},
   "outputs": [
    {
     "name": "stdout",
     "output_type": "stream",
     "text": [
      "Wählen Sie die Richtung der Umrechnung. Geben Sie dazu 'F nach C' oder 'C nach F' ein\n",
      "Geben Sie eine Zahl ein\n",
      "11.11111111111111\n"
     ]
    }
   ],
   "source": [
    "#B1\n",
    "#5\n",
    "def hauptschleife ():\n",
    "    def modus_einlesen():\n",
    "        print(\"Wählen Sie die Richtung der Umrechnung. Geben Sie dazu 'F nach C' oder 'C nach F' ein\")\n",
    "        eingabe = input()\n",
    "        if eingabe == \"F nach C\":\n",
    "            return \"F nach C\"\n",
    "        else:\n",
    "            return \"C nach F\" \n",
    "    modus_einlesen()\n",
    "    print(\"Geben Sie eine Zahl ein\")\n",
    "    zahl = input()\n",
    "    zahl = int(zahl)\n",
    "    if modus_einlesen == \"F nach C\":\n",
    "        print(((zahl -32)*5)/9)\n",
    "    else:\n",
    "        print((zahl *5)/9)\n",
    "hauptschleife()\n"
   ]
  },
  {
   "cell_type": "code",
   "execution_count": 30,
   "metadata": {},
   "outputs": [
    {
     "ename": "TypeError",
     "evalue": "'<=' not supported between instances of 'int' and 'str'",
     "output_type": "error",
     "traceback": [
      "\u001b[1;31m---------------------------------------------------------------------------\u001b[0m",
      "\u001b[1;31mTypeError\u001b[0m                                 Traceback (most recent call last)",
      "\u001b[1;32mc:\\Users\\Anna\\Downloads\\Coden PartB-2.ipynb Zelle 28\u001b[0m in \u001b[0;36m<cell line: 23>\u001b[1;34m()\u001b[0m\n\u001b[0;32m     <a href='vscode-notebook-cell:/c%3A/Users/Anna/Downloads/Coden%20PartB-2.ipynb#X36sZmlsZQ%3D%3D?line=20'>21</a>\u001b[0m         \u001b[39melse\u001b[39;00m:\n\u001b[0;32m     <a href='vscode-notebook-cell:/c%3A/Users/Anna/Downloads/Coden%20PartB-2.ipynb#X36sZmlsZQ%3D%3D?line=21'>22</a>\u001b[0m             \u001b[39mprint\u001b[39m((zahl \u001b[39m*\u001b[39m\u001b[39m5\u001b[39m)\u001b[39m/\u001b[39m\u001b[39m9\u001b[39m)\n\u001b[1;32m---> <a href='vscode-notebook-cell:/c%3A/Users/Anna/Downloads/Coden%20PartB-2.ipynb#X36sZmlsZQ%3D%3D?line=22'>23</a>\u001b[0m hauptschleife()\n",
      "\u001b[1;32mc:\\Users\\Anna\\Downloads\\Coden PartB-2.ipynb Zelle 28\u001b[0m in \u001b[0;36mhauptschleife\u001b[1;34m()\u001b[0m\n\u001b[0;32m      <a href='vscode-notebook-cell:/c%3A/Users/Anna/Downloads/Coden%20PartB-2.ipynb#X36sZmlsZQ%3D%3D?line=3'>4</a>\u001b[0m wiederholungen \u001b[39m=\u001b[39m \u001b[39minput\u001b[39m()\n\u001b[0;32m      <a href='vscode-notebook-cell:/c%3A/Users/Anna/Downloads/Coden%20PartB-2.ipynb#X36sZmlsZQ%3D%3D?line=4'>5</a>\u001b[0m runde \u001b[39m=\u001b[39m \u001b[39m1\u001b[39m\n\u001b[1;32m----> <a href='vscode-notebook-cell:/c%3A/Users/Anna/Downloads/Coden%20PartB-2.ipynb#X36sZmlsZQ%3D%3D?line=5'>6</a>\u001b[0m \u001b[39mwhile\u001b[39;00m runde \u001b[39m<\u001b[39;49m\u001b[39m=\u001b[39;49m wiederholungen:\n\u001b[0;32m      <a href='vscode-notebook-cell:/c%3A/Users/Anna/Downloads/Coden%20PartB-2.ipynb#X36sZmlsZQ%3D%3D?line=6'>7</a>\u001b[0m     runde \u001b[39m=\u001b[39m runde \u001b[39m+\u001b[39m \u001b[39m1\u001b[39m\n\u001b[0;32m      <a href='vscode-notebook-cell:/c%3A/Users/Anna/Downloads/Coden%20PartB-2.ipynb#X36sZmlsZQ%3D%3D?line=7'>8</a>\u001b[0m     \u001b[39mdef\u001b[39;00m \u001b[39mmodus_einlesen\u001b[39m():\n",
      "\u001b[1;31mTypeError\u001b[0m: '<=' not supported between instances of 'int' and 'str'"
     ]
    }
   ],
   "source": [
    "#B1\n",
    "#6\n",
    "def hauptschleife ():\n",
    "    \n",
    "        def modus_einlesen():\n",
    "            print(\"Wählen Sie die Richtung der Umrechnung. Geben Sie dazu 'F nach C' oder 'C nach F' ein\")\n",
    "            eingabe = input()\n",
    "            if eingabe == \"F nach C\":\n",
    "                return \"F nach C\"\n",
    "            else:\n",
    "                return \"C nach F\" \n",
    "        modus_einlesen()\n",
    "        print(\"Geben Sie eine Zahl ein\")\n",
    "        wiederholungen = input()\n",
    "        runde = 1\n",
    "        while runde <= wiederholungen:\n",
    "            runde = runde + 1\n",
    "        zahl = input()\n",
    "        zahl = int(zahl)\n",
    "        if modus_einlesen == \"F nach C\":\n",
    "            print(((zahl -32)*5)/9)\n",
    "        else:\n",
    "            print((zahl *5)/9)\n",
    "hauptschleife()\n"
   ]
  },
  {
   "cell_type": "code",
   "execution_count": 36,
   "metadata": {},
   "outputs": [
    {
     "data": {
      "text/plain": [
       "5.0"
      ]
     },
     "execution_count": 36,
     "metadata": {},
     "output_type": "execute_result"
    }
   ],
   "source": [
    "# B2 Funktionen II\n",
    "#1\n",
    "aktueller_stand = 0\n",
    "def add(x):\n",
    "    x = float(x)\n",
    "    global aktueller_stand\n",
    "    aktueller_stand = aktueller_stand + x\n",
    "    return aktueller_stand\n",
    "add(5)\n"
   ]
  },
  {
   "cell_type": "code",
   "execution_count": 37,
   "metadata": {},
   "outputs": [
    {
     "name": "stdout",
     "output_type": "stream",
     "text": [
      "-5\n"
     ]
    }
   ],
   "source": [
    "#B2\n",
    "#2\n",
    "aktueller_stand = 0\n",
    "def sub(x):\n",
    "    global aktueller_stand\n",
    "    aktueller_stand = aktueller_stand - x\n",
    "sub(5)\n",
    "print(aktueller_stand)"
   ]
  },
  {
   "cell_type": "code",
   "execution_count": 38,
   "metadata": {},
   "outputs": [
    {
     "name": "stdout",
     "output_type": "stream",
     "text": [
      "110\n"
     ]
    }
   ],
   "source": [
    "#B2\n",
    "#3\n",
    "aktueller_stand = 10\n",
    "def mult(x):\n",
    "    global aktueller_stand\n",
    "    aktueller_stand = aktueller_stand * x\n",
    "mult(11)\n",
    "print(aktueller_stand)"
   ]
  },
  {
   "cell_type": "code",
   "execution_count": 51,
   "metadata": {},
   "outputs": [
    {
     "name": "stdout",
     "output_type": "stream",
     "text": [
      "0.9090909090909091\n"
     ]
    }
   ],
   "source": [
    "#B2\n",
    "#4\n",
    "aktueller_stand = 10\n",
    "def div(x):\n",
    "    global aktueller_stand\n",
    "    aktueller_stand = aktueller_stand / x\n",
    "    if x == 0:\n",
    "        print(\"Fehler: Division durch Null!!\")\n",
    "    else:\n",
    "        print(aktueller_stand)\n",
    "div(11)\n"
   ]
  },
  {
   "cell_type": "code",
   "execution_count": 52,
   "metadata": {},
   "outputs": [
    {
     "name": "stdout",
     "output_type": "stream",
     "text": [
      "Geben Sie das Wort 'add', 'sub', 'div', oder 'mult' ein. Geben Sie anschließend eine Zhal ein. Falls Sie das Programm verlassen wollen, geben Sie 'quit' ein.\n",
      "1.9090909090909092\n"
     ]
    }
   ],
   "source": [
    "#B2\n",
    "#5\n",
    "\n",
    "def hauptschleife():\n",
    "    print(\"Geben Sie das Wort 'add', 'sub', 'div', oder 'mult' ein. Geben Sie anschließend eine Zhal ein. Falls Sie das Programm verlassen wollen, geben Sie 'quit' ein.\")\n",
    "    global aktueller_stand\n",
    "    eingabe = input()\n",
    "    eingabe = str(eingabe)\n",
    "    zahl = input()\n",
    "    zahl = int(zahl)\n",
    "    if eingabe == \"add\":\n",
    "        print(aktueller_stand + zahl)\n",
    "    elif eingabe == \"sub\":\n",
    "        print(aktueller_stand - zahl)\n",
    "    elif eingabe == \"mult\":\n",
    "        print(aktueller_stand * zahl)\n",
    "    elif eingabe == \"div\":\n",
    "        print(aktueller_stand / zahl)\n",
    "    elif eingabe == \"quit\":\n",
    "        pass\n",
    "hauptschleife()\n"
   ]
  },
  {
   "cell_type": "code",
   "execution_count": 53,
   "metadata": {},
   "outputs": [
    {
     "name": "stdout",
     "output_type": "stream",
     "text": [
      "Die Variable x hat den wert 10.0 sdfghkljdfha 10.0 dsfgkjhsdfhs 10.0 asdkjghdafshga\n",
      "Die Variable x hat den wert 10.0 sdfghkljdfha 10.0 dsfgkjhsdfhs 10.0 asdkjghdafshga\n",
      "Die Variable x hat den wert 10.0 sdfghkljdfha 10.0 dsfgkjhsdfhs 10.0 asdkjghdafshga\n",
      "Die Variable x hat den wert10.0sdfghkljdfha10.0dsfgkjhsdfhs10.0asdkjghdafshga\n"
     ]
    }
   ],
   "source": [
    "# Formatierte Strings\n",
    "x=10.0\n",
    "\n",
    "print(\"Die Variable x hat den wert {namen} sdfghkljdfha {namen} dsfgkjhsdfhs {namen} asdkjghdafshga\".format(namen=x))\n",
    "print(\"Die Variable x hat den wert {} sdfghkljdfha {} dsfgkjhsdfhs {} asdkjghdafshga\".format(x,x,x))\n",
    "print(f\"Die Variable x hat den wert {x} sdfghkljdfha {x} dsfgkjhsdfhs {x} asdkjghdafshga\")\n",
    "\n",
    "print(\"Die Variable x hat den wert\"+str(x)+ \"sdfghkljdfha\"+str(x)+ \"dsfgkjhsdfhs\" +str(x) +\"asdkjghdafshga\")"
   ]
  },
  {
   "cell_type": "code",
   "execution_count": 11,
   "metadata": {},
   "outputs": [
    {
     "name": "stdout",
     "output_type": "stream",
     "text": [
      "[29, 120, 52, 16]\n"
     ]
    }
   ],
   "source": [
    "# Den Durchschnitt der Tupeln berechnen\n",
    "tupel_liste = [(10, 10, 14, 10, 100), (30, 45, 56, 45, 120, 664, 1, 2), (44, 32, 88, 80, 36, 32), (1, 2, 3, 4, 10, 10, 14, 88)]\n",
    "\n",
    "ergebnisse = []\n",
    "\n",
    "for tupel in tupel_liste:\n",
    "    start = 0\n",
    "    for zahl in tupel:\n",
    "        start += zahl\n",
    "    ergebnisse.append(round(start/len(tupel)))\n",
    "print(ergebnisse)"
   ]
  },
  {
   "cell_type": "code",
   "execution_count": 7,
   "metadata": {},
   "outputs": [
    {
     "name": "stdout",
     "output_type": "stream",
     "text": [
      "{False, 1, 2.2, 1.2, 1.0001}\n",
      "[False, 1, 2.2, 1.2, 1.0001]\n",
      "(False, 1, 2.2, 1.2, 1.0001)\n",
      "{False, True, 42, 3}\n"
     ]
    }
   ],
   "source": [
    "# Mengen, sets\n",
    "liste = [1, True, False, 0, 0.0, 1.2, 2.2, 1.0001]\n",
    "menge = set(liste)\n",
    "print(menge)\n",
    "liste_2 = list(menge)\n",
    "print(liste_2)\n",
    "tupel = tuple(liste_2)\n",
    "print(tupel)\n",
    "neue_menge = set([False, 3, 42, True])\n",
    "print(neue_menge)"
   ]
  },
  {
   "cell_type": "code",
   "execution_count": 16,
   "metadata": {},
   "outputs": [
    {
     "name": "stdout",
     "output_type": "stream",
     "text": [
      "{True, 2.34, -23, 12, -1}\n",
      "{False, 1, 2.23, 12, 23}\n",
      "{1, 12}\n",
      "{False, True, 2.34, 2.23, -23, 12, 23, -1}\n",
      "{-23, 2.34, -1}\n",
      "{False, 2.23, 2.34, 23, -23, -1}\n"
     ]
    }
   ],
   "source": [
    "# Mengenlehre\n",
    "menge1 = set([-1, -23, 12, 2.34, True])\n",
    "print(menge1)\n",
    "menge2 = set([False, 2.23, 12, 23, 1])\n",
    "print(menge2)\n",
    "# Schnittmenge\n",
    "print(menge1.intersection(menge2))\n",
    "# Vereinigungsmenge\n",
    "print(menge1.union(menge2))\n",
    "# Differenzmenge\n",
    "print(menge1.difference(menge2))\n",
    "# Symmetrische Differenzmenge\n",
    "print(menge1.symmetric_difference(menge2))\n",
    "\n",
    "\n"
   ]
  },
  {
   "cell_type": "code",
   "execution_count": 9,
   "metadata": {},
   "outputs": [
    {
     "name": "stdout",
     "output_type": "stream",
     "text": [
      "{False, True, 2.34, -1}\n",
      "{False, True, 2.34, 42, -1}\n",
      "5\n",
      "False\n",
      "True\n",
      "2.34\n",
      "42\n",
      "-1\n",
      "{False, True, 2.34, 42}\n",
      "4\n",
      "set()\n",
      "0\n"
     ]
    }
   ],
   "source": [
    "# Methoden auf Mengen\n",
    "menge = set([2.34, True, False, -1])\n",
    "print(menge)\n",
    "menge.add(42)\n",
    "print(menge)\n",
    "print(len(menge))\n",
    "for element in menge:\n",
    "    print(element)\n",
    "menge.remove(-1)\n",
    "print(menge)\n",
    "print(len(menge))\n",
    "menge.clear()\n",
    "print(menge)\n",
    "print(len(menge))"
   ]
  },
  {
   "cell_type": "code",
   "execution_count": 13,
   "metadata": {},
   "outputs": [
    {
     "name": "stdout",
     "output_type": "stream",
     "text": [
      "{'Tierart': 'Katze', 'Name': 'Felix', 'Alter': 7, 'Anzahl Leben': 9}\n",
      "Katze\n",
      "5\n",
      "{'Tierart': 'Katze', 'Name': 'Felix', 'Alter': 5, 'Anzahl Leben': 9, 'Lieblingslied': 'Surfing Bird'}\n",
      "9\n",
      "{'Tierart': 'Katze', 'Name': 'Felix', 'Alter': 5, 'Lieblingslied': 'Surfing Bird'}\n",
      "Surfing Bird\n",
      "{'Tierart': 'Katze', 'Name': 'Felix', 'Alter': 5, 'Lieblingsbild': 'Sternennacht', 'Maler': 'van Goch'}\n",
      "{'Tierart': 'Katze', 'Name': 'Felix', 'Alter': 6, 'Lieblingsbild': 'Sternennacht', 'Maler': 'van Goch'}\n"
     ]
    }
   ],
   "source": [
    "# Dictionaries\n",
    "haustier = {\"Tierart\": \"Katze\",\n",
    "            \"Name\": \"Felix\",\n",
    "            \"Alter\": 7,\n",
    "            \"Anzahl Leben\": 9\n",
    "}\n",
    "print(haustier)\n",
    "print(haustier[\"Tierart\"])\n",
    "haustier[\"Alter\"] = 5\n",
    "print(haustier[\"Alter\"])\n",
    "haustier [\"Lieblingslied\"] = \"Surfing Bird\"\n",
    "print(haustier)\n",
    "wert = haustier.pop(\"Anzahl Leben\")\n",
    "print(wert)\n",
    "print(haustier)\n",
    "wert = haustier.pop (\"Lieblingslied\")\n",
    "print(wert)\n",
    "haustier [\"Lieblingsbild\"] = \"Sternennacht\"\n",
    "haustier [\"Maler\"] = \"van Goch\"\n",
    "print(haustier)\n",
    "haustier[\"Alter\"] = haustier [\"Alter\"] +1\n",
    "print(haustier)"
   ]
  },
  {
   "cell_type": "code",
   "execution_count": 3,
   "metadata": {},
   "outputs": [
    {
     "name": "stdout",
     "output_type": "stream",
     "text": [
      "Der Nachnam lautet Mustermann, der Vorname lautet Max, die Person ist 35 jahre alt und hat die Ausweisnummer 25\n"
     ]
    }
   ],
   "source": [
    "# B3 Build-in Funktionen und String Methoden\n",
    "# 1\n",
    "person_liste = [\"Mustermann\", \"Max\", \"35\", \"25\"]\n",
    "def print_person_liste ():\n",
    "    eingabe = person_liste\n",
    "    string = \"Der Nachnam lautet {}, der Vorname lautet {}, die Person ist {} jahre alt und hat die Ausweisnummer {}\"\n",
    "    print(string.format (person_liste [0], person_liste [1], person_liste [2], person_liste [3] ))\n",
    "print_person_liste()"
   ]
  },
  {
   "cell_type": "code",
   "execution_count": 7,
   "metadata": {},
   "outputs": [
    {
     "name": "stdout",
     "output_type": "stream",
     "text": [
      "['nachname', ' vorname', ' alter', ' ausweisnummer']\n"
     ]
    }
   ],
   "source": [
    "# B3\n",
    "#2\n",
    "\n",
    "def print_person_string ():\n",
    "    string = \"nachname, vorname, alter, ausweisnummer\"\n",
    "    print(string.split (\",\"))\n",
    "    \n",
    "print_person_string()\n",
    "\n",
    "# def print_person_string(person_string):\n",
    " # person_liste = person_string.split(\",\")\n",
    " # print_person_liste(person_liste)\n",
    "\n",
    "#print_person_string(person_string)"
   ]
  },
  {
   "cell_type": "code",
   "execution_count": 3,
   "metadata": {},
   "outputs": [
    {
     "ename": "TypeError",
     "evalue": "'list' object is not callable",
     "output_type": "error",
     "traceback": [
      "\u001b[1;31m---------------------------------------------------------------------------\u001b[0m",
      "\u001b[1;31mTypeError\u001b[0m                                 Traceback (most recent call last)",
      "\u001b[1;32mc:\\Users\\Anna\\Downloads\\Coden PartB-2.ipynb Zelle 42\u001b[0m in \u001b[0;36m<cell line: 7>\u001b[1;34m()\u001b[0m\n\u001b[0;32m      <a href='vscode-notebook-cell:/c%3A/Users/Anna/Downloads/Coden%20PartB-2.ipynb#X56sZmlsZQ%3D%3D?line=4'>5</a>\u001b[0m     \u001b[39mfor\u001b[39;00m person_liste \u001b[39min\u001b[39;00m liste_von_personenlisten:\n\u001b[0;32m      <a href='vscode-notebook-cell:/c%3A/Users/Anna/Downloads/Coden%20PartB-2.ipynb#X56sZmlsZQ%3D%3D?line=5'>6</a>\u001b[0m         \u001b[39mprint\u001b[39m (person_liste(person_liste))\n\u001b[1;32m----> <a href='vscode-notebook-cell:/c%3A/Users/Anna/Downloads/Coden%20PartB-2.ipynb#X56sZmlsZQ%3D%3D?line=6'>7</a>\u001b[0m print_liste_person_liste(personen_liste)\n",
      "\u001b[1;32mc:\\Users\\Anna\\Downloads\\Coden PartB-2.ipynb Zelle 42\u001b[0m in \u001b[0;36mprint_liste_person_liste\u001b[1;34m(liste_von_personenlisten)\u001b[0m\n\u001b[0;32m      <a href='vscode-notebook-cell:/c%3A/Users/Anna/Downloads/Coden%20PartB-2.ipynb#X56sZmlsZQ%3D%3D?line=3'>4</a>\u001b[0m \u001b[39mdef\u001b[39;00m \u001b[39mprint_liste_person_liste\u001b[39m(liste_von_personenlisten):\n\u001b[0;32m      <a href='vscode-notebook-cell:/c%3A/Users/Anna/Downloads/Coden%20PartB-2.ipynb#X56sZmlsZQ%3D%3D?line=4'>5</a>\u001b[0m     \u001b[39mfor\u001b[39;00m person_liste \u001b[39min\u001b[39;00m liste_von_personenlisten:\n\u001b[1;32m----> <a href='vscode-notebook-cell:/c%3A/Users/Anna/Downloads/Coden%20PartB-2.ipynb#X56sZmlsZQ%3D%3D?line=5'>6</a>\u001b[0m         \u001b[39mprint\u001b[39m (person_liste(person_liste))\n",
      "\u001b[1;31mTypeError\u001b[0m: 'list' object is not callable"
     ]
    }
   ],
   "source": [
    "# B3\n",
    "# 3\n",
    "personen_liste = [[\"Mustermann\", \"Max\", \"35\", \"25\"],[\"Musterfrau\", \"Erika\", \"35\", \"24\"],[\"Musterkind\", \"Felix\", \"12\", \"126\"]]\n",
    "def print_liste_person_liste(liste_von_personenlisten):\n",
    "    for person_liste in liste_von_personenlisten:\n",
    "        print (person_liste(person_liste))\n",
    "print_liste_person_liste(personen_liste)"
   ]
  },
  {
   "cell_type": "code",
   "execution_count": null,
   "metadata": {},
   "outputs": [],
   "source": [
    "#B3\n",
    "#4"
   ]
  },
  {
   "cell_type": "code",
   "execution_count": null,
   "metadata": {},
   "outputs": [],
   "source": [
    "#B3\n",
    "#5"
   ]
  },
  {
   "cell_type": "code",
   "execution_count": null,
   "metadata": {},
   "outputs": [],
   "source": [
    "#B3\n",
    "#6"
   ]
  },
  {
   "cell_type": "code",
   "execution_count": 14,
   "metadata": {},
   "outputs": [
    {
     "name": "stdout",
     "output_type": "stream",
     "text": [
      "Dictionary\n",
      "klein.\n",
      "Dictionary\n",
      "klein.\n"
     ]
    }
   ],
   "source": [
    "# Dictionaries Methoden\n",
    "dictionary = {\"Dieses\": \"Dictionary\",\n",
    "              \"ist\": \"klein.\"}\n",
    "print(dictionary[\"Dieses\"])\n",
    "print(dictionary[\"ist\"])\n",
    "for value in dictionary.values():\n",
    "    print(value)"
   ]
  },
  {
   "cell_type": "code",
   "execution_count": 13,
   "metadata": {},
   "outputs": [
    {
     "name": "stdout",
     "output_type": "stream",
     "text": [
      "ist\n",
      "Dieses\n",
      "Dictionary\n",
      "ist\n",
      "deutlich\n",
      "länger.\n",
      "Es\n",
      "beinhaltet\n",
      "21\n",
      "Paare\n",
      "von\n",
      "Schlüsseln\n",
      "und\n",
      "Werten.\n",
      "Da\n",
      "lohnt\n",
      "es\n",
      "sich\n",
      "eine\n",
      "for-Schleife\n",
      "zu\n",
      "verwenden!\n"
     ]
    }
   ],
   "source": [
    "dictionary = {1:\"Dieses\", 23: \"Dictionary\", \"nein\": \"ist\", (1,2): \"deutlich\", 42: \"länger.\", \"esel\": \"Es\", \"banane14\": \"beinhaltet\", 412: \"21\", (3,1,4,1,5): \"Paare\", \"EurO\": \"von\", \"Schlüsseln\": \"Schlüsseln\", 15: \"und\", (\"esel\",1): \"Werten.\", 2: \"Da\", \"(1),1)\": \"lohnt\", \"tetris\": \"es\", 8008: \"sich\", \";\": \"eine\", \"loooop\": \"for-Schleife\", (5,4,\"3\"): \"zu\", \"zu\": \"verwenden!\"}\n",
    "print(dictionary[\"nein\"])\n",
    "values = dictionary.values()\n",
    "for value in values:\n",
    "    print(value)"
   ]
  },
  {
   "cell_type": "code",
   "execution_count": 21,
   "metadata": {},
   "outputs": [
    {
     "name": "stdout",
     "output_type": "stream",
     "text": [
      "1\n",
      "23\n",
      "nein\n",
      "(1, 2)\n",
      "42\n",
      "esel\n",
      "banane14\n",
      "412\n",
      "(3, 1, 4, 1, 5)\n",
      "EurO\n",
      "Schlüsseln\n",
      "15\n",
      "('esel', 1)\n",
      "2\n",
      "(1),1)\n",
      "tetris\n",
      "8008\n",
      ";\n",
      "loooop\n",
      "(5, 4, '3')\n",
      "zu\n"
     ]
    }
   ],
   "source": [
    "# keys()\n",
    "dictionary = {1:\"Dieses\", 23: \"Dictionary\", \"nein\": \"ist\", (1,2): \"deutlich\", 42: \"länger.\", \"esel\": \"Es\", \"banane14\": \"beinhaltet\", 412: \"21\", (3,1,4,1,5): \"Paare\", \"EurO\": \"von\", \"Schlüsseln\": \"Schlüsseln\", 15: \"und\", (\"esel\",1): \"Werten.\", 2: \"Da\", \"(1),1)\": \"lohnt\", \"tetris\": \"es\", 8008: \"sich\", \";\": \"eine\", \"loooop\": \"for-Schleife\", (5,4,\"3\"): \"zu\", \"zu\": \"verwenden!\"}\n",
    "#for key in dictionary.keys():\n",
    " #   print(key)\n",
    "keys = dictionary.keys()\n",
    "for key in keys:\n",
    "    print(key)\n"
   ]
  },
  {
   "cell_type": "code",
   "execution_count": 27,
   "metadata": {},
   "outputs": [
    {
     "name": "stdout",
     "output_type": "stream",
     "text": [
      "iahh iahh \n",
      "iahh iahh \n",
      "quack quack quack \n"
     ]
    }
   ],
   "source": [
    "# Mit defaul Parameter arbeiten\n",
    "def echo(rufe, tier = \"ente\"):\n",
    "    if(tier == \"ente\"):\n",
    "        print(rufe)\n",
    "    else:\n",
    "        print(rufe)\n",
    "        print(rufe)\n",
    "    \n",
    "echo(\"iahh \"*2, tier = \"esel\")\n",
    "echo(\"quack \"*3)"
   ]
  },
  {
   "cell_type": "code",
   "execution_count": 13,
   "metadata": {},
   "outputs": [
    {
     "name": "stdout",
     "output_type": "stream",
     "text": [
      "1 (2, 3, 4, 5) 6\n",
      "(1,)\n",
      "2\n",
      "esel hahn\n"
     ]
    }
   ],
   "source": [
    "# Variable Parameter mit (*)\n",
    "def ein_stern(x, *y, z):\n",
    "    print(x,y,z)\n",
    "ein_stern(1,2,3,4,5, z=6)\n",
    "\n",
    "def sterne(*x, **y):\n",
    "    print(x[:1])\n",
    "    print(y[\"esel\"])\n",
    "sterne (1, esel=2)\n",
    "\n",
    "# Vervollständige den Code so, dass die Ausgabe \"esel hahn\" lautet.\n",
    "\n",
    "def lprint(*eingabe):\n",
    "    if(eingabe[0]):\n",
    "        return(eingabe[1])\n",
    "\n",
    "def dprint(**eingabe):\n",
    "    if(eingabe[\"esel\"]):\n",
    "            return eingabe[\"hund\"]# der Schlüssel ist hund, hahn  soll er Wert sein\n",
    "# lprint nimmt beliebig viele Eingaben an und interpretiert diese als eine Liste.\n",
    "# dprint nimmt beliebig viele Eingaben von Schlüssel-Wert-Paaren an und interpretiert diese als ein Dictionary.\n",
    "esel = lprint(\"hauptsache True\", \"esel\")\n",
    "hahn = dprint(esel=\"hauptsache True\", hund=\"hahn\")\n",
    "print(esel + \" \" + hahn)"
   ]
  },
  {
   "cell_type": "code",
   "execution_count": 32,
   "metadata": {},
   "outputs": [
    {
     "data": {
      "text/plain": [
       "1"
      ]
     },
     "execution_count": 32,
     "metadata": {},
     "output_type": "execute_result"
    }
   ],
   "source": [
    "# Teil 9\n",
    "def fakultät(x):\n",
    "    if x == 0:\n",
    "        return 1\n",
    "    ergebnis = 1\n",
    "    for zahl in range(1, x+1):\n",
    "        ergebnis = ergebnis * zahl \n",
    "        return ergebnis\n",
    "fakultät(3)\n"
   ]
  },
  {
   "cell_type": "code",
   "execution_count": 4,
   "metadata": {},
   "outputs": [
    {
     "name": "stdout",
     "output_type": "stream",
     "text": [
      "5040\n"
     ]
    }
   ],
   "source": [
    "def fakultät(x):\n",
    "    if x == 1 or x == 0:\n",
    "        return 1\n",
    "    else:\n",
    "        return x * fakultät(x-1)\n",
    "print(fakultät(7))   "
   ]
  },
  {
   "cell_type": "code",
   "execution_count": 37,
   "metadata": {},
   "outputs": [
    {
     "name": "stdout",
     "output_type": "stream",
     "text": [
      "30\n",
      "13\n"
     ]
    }
   ],
   "source": [
    "# Fibonacci-Folge rekursiv implementieren\n",
    "# 1. Modifiziere den Code so, dass jedes zweite Element aufsummiert wird\n",
    "def summieren(x):\n",
    "  \n",
    "  # Abbruchbedingung\n",
    "  if x < 1:\n",
    "    return 0\n",
    "  # Rekursiver Aufruf\n",
    "  else:\n",
    "    return x + summieren(x - 2)\n",
    "\n",
    "print(summieren(10))\n",
    "\n",
    "# 2. Passe die if-Bedingung und das return-Statement so an, dass die Funktion die x-te Fibonacci-Zahl rekursiv berechnet.\n",
    "def fibonacci(x):\n",
    "  \n",
    "  # Abbruchbedingung\n",
    "  if x==1 or x==2:\n",
    "    return 1\n",
    "  # Rekursiver Aufruf\n",
    "  else: \n",
    "    return (fibonacci(x -1)+ fibonacci(x -2))\n",
    "\n",
    "print(fibonacci(7))"
   ]
  },
  {
   "cell_type": "code",
   "execution_count": 6,
   "metadata": {},
   "outputs": [
    {
     "name": "stdout",
     "output_type": "stream",
     "text": [
      "8\n",
      "8\n"
     ]
    }
   ],
   "source": [
    "# Lambda\n",
    "ergebnis = (lambda x: x*2)(4)\n",
    "print(ergebnis)\n",
    "\n",
    "multipliziere_mit_zwei = lambda x: x*2\n",
    "print(multipliziere_mit_zwei(4))"
   ]
  },
  {
   "cell_type": "code",
   "execution_count": 11,
   "metadata": {},
   "outputs": [
    {
     "name": "stdout",
     "output_type": "stream",
     "text": [
      "5\n",
      "5\n"
     ]
    }
   ],
   "source": [
    "# Eine Variable fest in der Definition einbauen\n",
    "m = 2\n",
    "b = 3\n",
    "gerade = lambda x, m = m:m * x + 3\n",
    "print(gerade(1))\n",
    "m = 3\n",
    "print(gerade(1))"
   ]
  },
  {
   "cell_type": "code",
   "execution_count": 13,
   "metadata": {},
   "outputs": [
    {
     "name": "stdout",
     "output_type": "stream",
     "text": [
      "5\n",
      "6\n"
     ]
    }
   ],
   "source": [
    "# L-F referenziert den Wert der freien Variable\n",
    "m = 2\n",
    "b = 3\n",
    "gerade = lambda x: m*x+3\n",
    "print (gerade(1))\n",
    "m = 3\n",
    "print(gerade(1))"
   ]
  },
  {
   "cell_type": "code",
   "execution_count": null,
   "metadata": {},
   "outputs": [],
   "source": [
    "# Lambda_erste Aufgabe\n",
    "#  1. Schreibe die gegebene Funktion als Lambda-Funktion.\n",
    "satz = [\"Dieter\", \"mag\", \"Python!\"]\n",
    "def funktion(x):\n",
    "   return \" \".join(x)\n",
    "\n",
    "print(funktion(satz)) \n",
    "#Deine Eingabe\n",
    "print((lambda x: \" \".join(x))(satz))\n",
    "\n",
    "# 2. Übergib die Lambda-Funktion.\n",
    "geraden_gleichung = (lambda x: 1*x + 3)\n",
    "\n",
    "def berechne_werte():       # Parameter anpassen\n",
    "  geraden_werte = []\n",
    "  \n",
    "  #Deine Eingabe\n",
    "\n",
    "  return geraden_werte\n",
    "\n",
    "print(berechne_werte())     # Argumente anpassen\n",
    "\n",
    "# 3. Liste von Lambda-Funktionen\n",
    "liste_funktionen = []\n",
    "\n",
    "# Definition der Funktionen und Hinzufügen zur Liste\n",
    "#Deine Eingabe\n",
    "\n",
    "# Ausgabe der Liste mit Funktionen\n",
    "#Deine Eingabe\n",
    "\n",
    "# Ausführen der Funktion von 0 bis 9.\n",
    "#Deine Eingabe  "
   ]
  },
  {
   "cell_type": "code",
   "execution_count": null,
   "metadata": {},
   "outputs": [],
   "source": [
    "# Loesungsvorschlag\n",
    "# 1. Schreibe die gegebene Funktion als Lambda-Funktion.\n",
    "satz = [\"Dieter\", \"mag\", \"Python!\"]\n",
    "def funktion(x):\n",
    "   return \" \".join(x)\n",
    "\n",
    "print(funktion(satz))\n",
    "\n",
    "print((lambda x: \" \".join(x))(satz))\n",
    "\n",
    "# 2. Übergib die Lambda-Funktion.\n",
    "geraden_gleichung = (lambda x: 1*x + 3)\n",
    "\n",
    "def berechne_werte(gerade, max):\n",
    "  geraden_werte = []\n",
    "  \n",
    "  for x in range(max):\n",
    "    geraden_werte.append(gerade(x))\n",
    "  return geraden_werte\n",
    "\n",
    "print(berechne_werte(geraden_gleichung, 10))\n",
    "\n",
    "# 3. Liste von Lambda-Funktionen.\n",
    "liste_funktionen = []\n",
    "\n",
    "# Definition der Funktionen und Hinzufügen zur Liste\n",
    "for m in range(1,6):\n",
    "  liste_funktionen.append((lambda x, m=m: m*x + 3))\n",
    "\n",
    "print(liste_funktionen)\n",
    "\n",
    "# Ausführen der Funktion von 0 bis 9.\n",
    "for gerade in liste_funktionen:\n",
    "  print(berechne_werte(gerade, 10))"
   ]
  },
  {
   "cell_type": "code",
   "execution_count": 2,
   "metadata": {},
   "outputs": [
    {
     "name": "stdout",
     "output_type": "stream",
     "text": [
      "(1, 1)\n",
      "(1, 2)\n",
      "(1, 3)\n",
      "(1, 4)\n",
      "(1, 5)\n",
      "(2, 1)\n",
      "(2, 2)\n",
      "(2, 3)\n",
      "(2, 4)\n",
      "(2, 5)\n",
      "(3, 1)\n",
      "(3, 2)\n",
      "(3, 3)\n",
      "(3, 4)\n",
      "(3, 5)\n",
      "(4, 1)\n",
      "(4, 2)\n",
      "(4, 3)\n",
      "(4, 4)\n",
      "(4, 5)\n",
      "(5, 1)\n",
      "(5, 2)\n",
      "(5, 3)\n",
      "(5, 4)\n",
      "(5, 5)\n"
     ]
    }
   ],
   "source": [
    "#B5_1\n",
    "for x in range(1,6):\n",
    "    for y in range(1,6):\n",
    "        print((x,y))"
   ]
  },
  {
   "cell_type": "code",
   "execution_count": 3,
   "metadata": {},
   "outputs": [
    {
     "name": "stdout",
     "output_type": "stream",
     "text": [
      "1 mal 1 ist 1\n",
      "1 mal 2 ist 2\n",
      "1 mal 3 ist 3\n",
      "1 mal 4 ist 4\n",
      "1 mal 5 ist 5\n",
      "1 mal 6 ist 6\n",
      "1 mal 7 ist 7\n",
      "1 mal 8 ist 8\n",
      "1 mal 9 ist 9\n",
      "1 mal 10 ist 10\n",
      "2 mal 1 ist 2\n",
      "2 mal 2 ist 4\n",
      "2 mal 3 ist 6\n",
      "2 mal 4 ist 8\n",
      "2 mal 5 ist 10\n",
      "2 mal 6 ist 12\n",
      "2 mal 7 ist 14\n",
      "2 mal 8 ist 16\n",
      "2 mal 9 ist 18\n",
      "2 mal 10 ist 20\n",
      "3 mal 1 ist 3\n",
      "3 mal 2 ist 6\n",
      "3 mal 3 ist 9\n",
      "3 mal 4 ist 12\n",
      "3 mal 5 ist 15\n",
      "3 mal 6 ist 18\n",
      "3 mal 7 ist 21\n",
      "3 mal 8 ist 24\n",
      "3 mal 9 ist 27\n",
      "3 mal 10 ist 30\n",
      "4 mal 1 ist 4\n",
      "4 mal 2 ist 8\n",
      "4 mal 3 ist 12\n",
      "4 mal 4 ist 16\n",
      "4 mal 5 ist 20\n",
      "4 mal 6 ist 24\n",
      "4 mal 7 ist 28\n",
      "4 mal 8 ist 32\n",
      "4 mal 9 ist 36\n",
      "4 mal 10 ist 40\n",
      "5 mal 1 ist 5\n",
      "5 mal 2 ist 10\n",
      "5 mal 3 ist 15\n",
      "5 mal 4 ist 20\n",
      "5 mal 5 ist 25\n",
      "5 mal 6 ist 30\n",
      "5 mal 7 ist 35\n",
      "5 mal 8 ist 40\n",
      "5 mal 9 ist 45\n",
      "5 mal 10 ist 50\n",
      "6 mal 1 ist 6\n",
      "6 mal 2 ist 12\n",
      "6 mal 3 ist 18\n",
      "6 mal 4 ist 24\n",
      "6 mal 5 ist 30\n",
      "6 mal 6 ist 36\n",
      "6 mal 7 ist 42\n",
      "6 mal 8 ist 48\n",
      "6 mal 9 ist 54\n",
      "6 mal 10 ist 60\n",
      "7 mal 1 ist 7\n",
      "7 mal 2 ist 14\n",
      "7 mal 3 ist 21\n",
      "7 mal 4 ist 28\n",
      "7 mal 5 ist 35\n",
      "7 mal 6 ist 42\n",
      "7 mal 7 ist 49\n",
      "7 mal 8 ist 56\n",
      "7 mal 9 ist 63\n",
      "7 mal 10 ist 70\n",
      "8 mal 1 ist 8\n",
      "8 mal 2 ist 16\n",
      "8 mal 3 ist 24\n",
      "8 mal 4 ist 32\n",
      "8 mal 5 ist 40\n",
      "8 mal 6 ist 48\n",
      "8 mal 7 ist 56\n",
      "8 mal 8 ist 64\n",
      "8 mal 9 ist 72\n",
      "8 mal 10 ist 80\n",
      "9 mal 1 ist 9\n",
      "9 mal 2 ist 18\n",
      "9 mal 3 ist 27\n",
      "9 mal 4 ist 36\n",
      "9 mal 5 ist 45\n",
      "9 mal 6 ist 54\n",
      "9 mal 7 ist 63\n",
      "9 mal 8 ist 72\n",
      "9 mal 9 ist 81\n",
      "9 mal 10 ist 90\n",
      "10 mal 1 ist 10\n",
      "10 mal 2 ist 20\n",
      "10 mal 3 ist 30\n",
      "10 mal 4 ist 40\n",
      "10 mal 5 ist 50\n",
      "10 mal 6 ist 60\n",
      "10 mal 7 ist 70\n",
      "10 mal 8 ist 80\n",
      "10 mal 9 ist 90\n",
      "10 mal 10 ist 100\n"
     ]
    }
   ],
   "source": [
    "#B5_2\n",
    "for x in range(1,11):\n",
    "    for y in range(1,11):\n",
    "        ausgabe = \"{erste_zahl} mal {zweite_zahl} ist {produkt}\"\n",
    "        ausgabe = ausgabe.format(erste_zahl = x, zweite_zahl = y, produkt = x*y)\n",
    "        print(ausgabe)"
   ]
  },
  {
   "cell_type": "code",
   "execution_count": 4,
   "metadata": {},
   "outputs": [
    {
     "name": "stdout",
     "output_type": "stream",
     "text": [
      "10 mal 10 ist 100\n",
      "9 mal 10 ist 90\n",
      "8 mal 10 ist 80\n",
      "7 mal 10 ist 70\n",
      "6 mal 10 ist 60\n",
      "5 mal 10 ist 50\n",
      "4 mal 10 ist 40\n",
      "3 mal 10 ist 30\n",
      "2 mal 10 ist 20\n",
      "1 mal 10 ist 10\n",
      "10 mal 9 ist 90\n",
      "9 mal 9 ist 81\n",
      "8 mal 9 ist 72\n",
      "7 mal 9 ist 63\n",
      "6 mal 9 ist 54\n",
      "5 mal 9 ist 45\n",
      "4 mal 9 ist 36\n",
      "3 mal 9 ist 27\n",
      "2 mal 9 ist 18\n",
      "1 mal 9 ist 9\n",
      "10 mal 8 ist 80\n",
      "9 mal 8 ist 72\n",
      "8 mal 8 ist 64\n",
      "7 mal 8 ist 56\n",
      "6 mal 8 ist 48\n",
      "5 mal 8 ist 40\n",
      "4 mal 8 ist 32\n",
      "3 mal 8 ist 24\n",
      "2 mal 8 ist 16\n",
      "1 mal 8 ist 8\n",
      "10 mal 7 ist 70\n",
      "9 mal 7 ist 63\n",
      "8 mal 7 ist 56\n",
      "7 mal 7 ist 49\n",
      "6 mal 7 ist 42\n",
      "5 mal 7 ist 35\n",
      "4 mal 7 ist 28\n",
      "3 mal 7 ist 21\n",
      "2 mal 7 ist 14\n",
      "1 mal 7 ist 7\n",
      "10 mal 6 ist 60\n",
      "9 mal 6 ist 54\n",
      "8 mal 6 ist 48\n",
      "7 mal 6 ist 42\n",
      "6 mal 6 ist 36\n",
      "5 mal 6 ist 30\n",
      "4 mal 6 ist 24\n",
      "3 mal 6 ist 18\n",
      "2 mal 6 ist 12\n",
      "1 mal 6 ist 6\n",
      "10 mal 5 ist 50\n",
      "9 mal 5 ist 45\n",
      "8 mal 5 ist 40\n",
      "7 mal 5 ist 35\n",
      "6 mal 5 ist 30\n",
      "5 mal 5 ist 25\n",
      "4 mal 5 ist 20\n",
      "3 mal 5 ist 15\n",
      "2 mal 5 ist 10\n",
      "1 mal 5 ist 5\n",
      "10 mal 4 ist 40\n",
      "9 mal 4 ist 36\n",
      "8 mal 4 ist 32\n",
      "7 mal 4 ist 28\n",
      "6 mal 4 ist 24\n",
      "5 mal 4 ist 20\n",
      "4 mal 4 ist 16\n",
      "3 mal 4 ist 12\n",
      "2 mal 4 ist 8\n",
      "1 mal 4 ist 4\n",
      "10 mal 3 ist 30\n",
      "9 mal 3 ist 27\n",
      "8 mal 3 ist 24\n",
      "7 mal 3 ist 21\n",
      "6 mal 3 ist 18\n",
      "5 mal 3 ist 15\n",
      "4 mal 3 ist 12\n",
      "3 mal 3 ist 9\n",
      "2 mal 3 ist 6\n",
      "1 mal 3 ist 3\n",
      "10 mal 2 ist 20\n",
      "9 mal 2 ist 18\n",
      "8 mal 2 ist 16\n",
      "7 mal 2 ist 14\n",
      "6 mal 2 ist 12\n",
      "5 mal 2 ist 10\n",
      "4 mal 2 ist 8\n",
      "3 mal 2 ist 6\n",
      "2 mal 2 ist 4\n",
      "1 mal 2 ist 2\n",
      "10 mal 1 ist 10\n",
      "9 mal 1 ist 9\n",
      "8 mal 1 ist 8\n",
      "7 mal 1 ist 7\n",
      "6 mal 1 ist 6\n",
      "5 mal 1 ist 5\n",
      "4 mal 1 ist 4\n",
      "3 mal 1 ist 3\n",
      "2 mal 1 ist 2\n",
      "1 mal 1 ist 1\n"
     ]
    }
   ],
   "source": [
    "# B5_3\n",
    "for x in range(10,0, -1):\n",
    "    for y in range(10,0,-1):\n",
    "        ausgabe = \"{erste_zahl} mal {zweite_zahl} ist {produkt}\"\n",
    "        ausgabe = ausgabe.format(erste_zahl = y, zweite_zahl = x, produkt = x*y)\n",
    "        print(ausgabe)"
   ]
  },
  {
   "cell_type": "code",
   "execution_count": 10,
   "metadata": {},
   "outputs": [
    {
     "name": "stdout",
     "output_type": "stream",
     "text": [
      "True\n",
      "True\n",
      "True\n",
      "False\n",
      "False\n"
     ]
    }
   ],
   "source": [
    "# B5_4\n",
    "# Schreibe Sie eine Funktion primzahl_test, die eine int-Zahl als Eingabe erwartet und True zurückgibt, wenn diese Zahl eine Primzahl ist\n",
    "def primzahl_test(zahl):\n",
    "    for teiler in range (2,zahl): # Teste alle Zahlen zwischen 2 und\n",
    "        if (zahl % teiler == 0):\n",
    "            return False\n",
    "    return True\n",
    "print(primzahl_test(7))\n",
    "print(primzahl_test(2))\n",
    "print(primzahl_test(5))\n",
    "print(primzahl_test(4))\n",
    "print(primzahl_test(51729))"
   ]
  },
  {
   "cell_type": "code",
   "execution_count": 12,
   "metadata": {},
   "outputs": [
    {
     "name": "stdout",
     "output_type": "stream",
     "text": [
      "[True, True, False, False, False, True]\n"
     ]
    }
   ],
   "source": [
    "# B5_5\n",
    "def primzahl_test_listen(liste_von_zahlen):\n",
    "    rueckgabe = []\n",
    "    for zahl in liste_von_zahlen:\n",
    "        ergebnis = primzahl_test(zahl) # Zahlen werden geprüft\n",
    "        rueckgabe.append(ergebnis)\n",
    "    return rueckgabe \n",
    "print(primzahl_test_listen([3,7,8,46,2764,20573857]))"
   ]
  },
  {
   "cell_type": "code",
   "execution_count": 13,
   "metadata": {},
   "outputs": [
    {
     "name": "stdout",
     "output_type": "stream",
     "text": [
      "[True, True, False, True, False, True, False, False, False, True]\n"
     ]
    }
   ],
   "source": [
    "# B5_6\n",
    "# Schreiben Sie eone Funktion, die alles Zahlen von 2 bis zur Eigabezahl (einschließlich) darauf testet, ob si Primzahl sind\n",
    "def teste_zahlen_bis(letzte_zahl):\n",
    "    test = list(range(2, letzte_zahl +1))\n",
    "    return primzahl_test_listen(test)\n",
    "print(teste_zahlen_bis(11))   "
   ]
  },
  {
   "cell_type": "code",
   "execution_count": 17,
   "metadata": {},
   "outputs": [
    {
     "name": "stdout",
     "output_type": "stream",
     "text": [
      "Die Länge ist 16 und der Hash-Wert ist 8\n",
      "10\n"
     ]
    }
   ],
   "source": [
    "# B6_1\n",
    "# Hash-Funktion\n",
    "def mein_hash(string):\n",
    "    return len(string) % 10\n",
    "print(\"Die Länge ist \" + str(len(\"Das ist ein Test\")) + \" und der Hash-Wert ist \" + str(mein_hash(\"Ein Test\")))\n",
    "# Um die Elemente zu spreichern, die in der Hash-Map sind, verwenden wir diese Liste\n",
    "speicher = [[],[],[],[],[],[],[],[],[],[]]\n",
    "print(len(speicher))"
   ]
  },
  {
   "cell_type": "code",
   "execution_count": 3,
   "metadata": {},
   "outputs": [
    {
     "name": "stdout",
     "output_type": "stream",
     "text": [
      "[2, 5, 8, 11, 14, 17, 20]\n",
      "[14, 17, 20]\n",
      "['Gerade', 'Ungerade', 'Gerade', 'Ungerade', 'Gerade', 'Ungerade']\n"
     ]
    }
   ],
   "source": [
    "# List Comprehensions\n",
    "y = 2\n",
    "addiert_1 = [x+y for x in range(20) if x%3 == 0]\n",
    "addiert_2 = [x+y for x in range (20) if x%3 == 0 if x > 10]\n",
    "print(addiert_1)\n",
    "print(addiert_2)\n",
    "\n",
    "liste = [\"Gerade\" if i%2 == 0 else \"Ungerade\" for i in range(6)]\n",
    "print(liste)"
   ]
  },
  {
   "cell_type": "code",
   "execution_count": 4,
   "metadata": {},
   "outputs": [
    {
     "name": "stdout",
     "output_type": "stream",
     "text": [
      "Die Länge ist 16 und der Hash-Wert ist 8\n",
      "42\n",
      "1\n"
     ]
    }
   ],
   "source": [
    "# Beispiel_Test\n",
    "def mein_hash(string):\n",
    "    return len(string) % 10\n",
    "print(\"Die Länge ist \" + str(len(\"Das ist ein Test\")) + \" und der Hash-Wert ist \" + str(mein_hash(\"Ein Test\")))\n",
    "# Um die Elemente zu spreichern, die in der Hash-Map sind, verwenden wir diese Liste\n",
    "speicher = [[],[],[],[],[],[],[],[],[],[]]\n",
    "def hinzufuegen( schluessel_wert_paar ):\n",
    "    #Ihre Eingabe\n",
    "    hash = mein_hash(schluessel_wert_paar[0])\n",
    "    speicher[hash].append(schluessel_wert_paar)\n",
    "def pop( eingabe ):\n",
    "    #Ihre Eingabe\n",
    "    pophash = mein_hash(eingabe)\n",
    "    for element in range(len(speicher[pophash])):\n",
    "        if speicher[pophash][element][0] == eingabe:\n",
    "            print(speicher[pophash][element][1])\n",
    "            speicher[pophash].remove(speicher[pophash][element])\n",
    "            break\n",
    "        else:\n",
    "            pass\n",
    "        \n",
    "hinzufuegen([\"Anna\", 42])\n",
    "hinzufuegen([\"AnnaAnanasAnna\", 1])\n",
    "pop(\"Anna\")\n",
    "pop(\"AnnaAnanasAnna\")"
   ]
  },
  {
   "cell_type": "code",
   "execution_count": 4,
   "metadata": {},
   "outputs": [
    {
     "name": "stdout",
     "output_type": "stream",
     "text": [
      "[1, 2, 3, 4, 5]\n",
      "[0, 2, 4, 6, 8, 10, 12, 14, 16, 18]\n",
      "[2, 18, 34, 50, 66]\n"
     ]
    }
   ],
   "source": [
    "# 1. Erstelle die Liste [1,2,3,4,5] mit List Comprehensions\n",
    "# 2. Erstelle eine Liste mit den Absolutwerten der gegebenen Liste mittels \n",
    "# List Comprehensions. Erinnerung: Den Absolutwert kannst du mit abs() berechnen.\n",
    "# 3. Definiere eine Lambda-Funktion für die Geradengleichung mit m = 4 und b = 2 und \n",
    "# wende diese auf alle Elemente der vorgegebenen Liste, \n",
    "# welche durch 4 teilbar sind mittels List Comprehension an. Gib diese ferner als Liste aus.\n",
    "\n",
    "# 1. Aufgabe\n",
    "liste = [x for x in range(1,6)]\n",
    "print(liste)\n",
    "# 2. Aufgabe\n",
    "negativ_liste = [0, -2, -4, -6, -8, -10, -12, -14, -16, -18]\n",
    "liste_positiv = [abs(x) for x in negativ_liste]\n",
    "print(liste_positiv)\n",
    "# 3. Aufgabe\n",
    "liste_x = liste_positiv\n",
    "m = 4\n",
    "b = 2\n",
    "gerade = lambda x: 4 * x + 2\n",
    "# Anwenden auf Listenelemente\n",
    "liste_gerade = [gerade(x) for x in liste_x if x % 4 == 0]\n",
    "print(liste_gerade)\n",
    "\n"
   ]
  },
  {
   "cell_type": "code",
   "execution_count": 6,
   "metadata": {},
   "outputs": [
    {
     "name": "stdout",
     "output_type": "stream",
     "text": [
      "1\n",
      "0\n"
     ]
    }
   ],
   "source": [
    "x = 0\n",
    "def funktion ():\n",
    "     x = 1\n",
    "     print(x)\n",
    "\n",
    "funktion()\n",
    "print(x)"
   ]
  },
  {
   "cell_type": "code",
   "execution_count": 7,
   "metadata": {},
   "outputs": [
    {
     "data": {
      "text/plain": [
       "12"
      ]
     },
     "execution_count": 7,
     "metadata": {},
     "output_type": "execute_result"
    }
   ],
   "source": [
    "def funktion(x):\n",
    "     x = x + 1\n",
    "     return x\n",
    "funktion(funktion(10))"
   ]
  },
  {
   "cell_type": "code",
   "execution_count": 8,
   "metadata": {},
   "outputs": [
    {
     "name": "stdout",
     "output_type": "stream",
     "text": [
      "5\n"
     ]
    }
   ],
   "source": [
    "tuple = (\"5\",3, 4)\n",
    "a, b, c = tuple\n",
    "print(a)"
   ]
  },
  {
   "cell_type": "code",
   "execution_count": 10,
   "metadata": {},
   "outputs": [
    {
     "name": "stdout",
     "output_type": "stream",
     "text": [
      "-6\n"
     ]
    }
   ],
   "source": [
    "def produkt(x, y, z):\n",
    "     print(x - (y * z))\n",
    "produkt(4,5,z=2)"
   ]
  },
  {
   "cell_type": "code",
   "execution_count": 12,
   "metadata": {},
   "outputs": [
    {
     "name": "stdout",
     "output_type": "stream",
     "text": [
      "[1, -2, -5, -8]\n"
     ]
    }
   ],
   "source": [
    "print(list(range(1,-11,-3)))"
   ]
  },
  {
   "cell_type": "code",
   "execution_count": 4,
   "metadata": {},
   "outputs": [
    {
     "data": {
      "text/plain": [
       "True"
      ]
     },
     "execution_count": 4,
     "metadata": {},
     "output_type": "execute_result"
    }
   ],
   "source": [
    "(1,) < (2,0)"
   ]
  },
  {
   "cell_type": "code",
   "execution_count": 3,
   "metadata": {},
   "outputs": [
    {
     "data": {
      "text/plain": [
       "12"
      ]
     },
     "execution_count": 3,
     "metadata": {},
     "output_type": "execute_result"
    }
   ],
   "source": [
    "def funktion(x):\n",
    "     x = x + 1\n",
    "     return x\n",
    "funktion(funktion(10))"
   ]
  },
  {
   "cell_type": "code",
   "execution_count": 4,
   "metadata": {},
   "outputs": [
    {
     "name": "stdout",
     "output_type": "stream",
     "text": [
      "K!a!r!r!i!e!r!e! !T!u!t!o!r\n"
     ]
    }
   ],
   "source": [
    "zeichenkette = \"Karriere Tutor\"\n",
    "print(\"!\".join(zeichenkette))"
   ]
  },
  {
   "cell_type": "code",
   "execution_count": 5,
   "metadata": {},
   "outputs": [
    {
     "name": "stdout",
     "output_type": "stream",
     "text": [
      "2657819545152\n",
      "2657819545152\n",
      "2657819545152\n"
     ]
    }
   ],
   "source": [
    "liste = [1,2,3]\n",
    "def manipulation(input_liste):\n",
    "     input_liste[1] = 4\n",
    "     print(id(input_liste))\n",
    "     return input_liste\n",
    "\n",
    "print(id(liste))\n",
    "print(id(manipulation(liste)))"
   ]
  },
  {
   "cell_type": "code",
   "execution_count": 12,
   "metadata": {},
   "outputs": [
    {
     "name": "stdout",
     "output_type": "stream",
     "text": [
      "{'Anton', 'Peter', 'Ulla'}\n",
      "{'Anton', 'Peter', 'Ulla'}\n",
      "{'Anton', 'Maria', 'Peter', 'Ulla'}\n"
     ]
    }
   ],
   "source": [
    "# B7\n",
    "# 1\n",
    "dorf = {  \"Maria\": [\"Peter\",\"Anton\"],\n",
    "          \"Peter\": [\"Ulla\"],\n",
    "          \"Anton\": [\"Ulla\"],\n",
    "          \"Ulla\": [\"Peter\",\"Anton\"] }\n",
    "\n",
    "def geruecht_verbreiten(start_person):\n",
    "    warteschlange = [start_person]\n",
    "    hat_schon_von_geruecht_erfahren = {start_person}\n",
    "    while len(warteschlange) > 0:\n",
    "        aktuelle_person = warteschlange.pop()\n",
    "        for person in dorf[aktuelle_person]:\n",
    "            if person not in  hat_schon_von_geruecht_erfahren:\n",
    "                warteschlange.append(person)\n",
    "                hat_schon_von_geruecht_erfahren.add(person)\n",
    "    return hat_schon_von_geruecht_erfahren\n",
    "print(geruecht_verbreiten(\"Peter\"))\n",
    "print(geruecht_verbreiten(\"Ulla\"))\n",
    "print(geruecht_verbreiten(\"Maria\"))"
   ]
  },
  {
   "cell_type": "code",
   "execution_count": 16,
   "metadata": {},
   "outputs": [
    {
     "name": "stdout",
     "output_type": "stream",
     "text": [
      "{'Byron', 'Valerie', 'Omari', 'Eboni'}\n",
      "Rida : 43\n",
      "Aryaan : 44\n",
      "Lainey : 20\n",
      "Eboni : 4\n",
      "Fariha : 45\n",
      "Anita : 7\n",
      "Emme : 60\n",
      "Lois : 55\n",
      "Ralph : 8\n",
      "Abel : 26\n",
      "Stanislaw : 5\n",
      "Wallace : 43\n",
      "Melanie : 8\n",
      "Theresa : 12\n",
      "Gracie-Mae : 48\n",
      "Bailey : 46\n",
      "Khalil : 43\n",
      "Misha : 13\n",
      "Kamron : 43\n",
      "Kit : 46\n",
      "Darragh : 24\n",
      "Everett : 13\n",
      "Khaleesi : 43\n",
      "Haidar : 20\n",
      "Flynn : 12\n",
      "Arsalan : 27\n",
      "Katlyn : 59\n",
      "Hina : 43\n",
      "Milton : 59\n",
      "Halimah : 45\n",
      "Piers : 45\n",
      "Theodora : 50\n",
      "Jokubas : 58\n",
      "Hendrix : 44\n",
      "Katrina : 44\n",
      "Elizabeth : 44\n",
      "Delilah : 43\n",
      "Daniel : 21\n",
      "Aniela : 9\n",
      "Hamzah : 44\n",
      "Noah : 21\n",
      "Teejay : 52\n",
      "Corbin : 43\n",
      "Ayub : 43\n",
      "Isla-Rose : 57\n",
      "Harvie : 49\n",
      "Daisie : 50\n",
      "Catherine : 44\n",
      "Markus : 8\n",
      "Antoni : 7\n",
      "Scarlette : 43\n",
      "Amalia : 20\n",
      "Carlo : 59\n",
      "Enid : 21\n",
      "Kwame : 21\n",
      "Hawwa : 51\n",
      "Arman : 43\n",
      "Enoch : 20\n",
      "Bilal : 15\n",
      "Myah : 43\n",
      "Lilly : 43\n",
      "Scarlett-Rose : 22\n",
      "Henna : 43\n",
      "Braiden : 25\n",
      "Farzana : 46\n",
      "Jayde : 44\n",
      "Mamie : 7\n",
      "Jean-Luc : 43\n",
      "Sabiha : 12\n",
      "Safaa : 58\n",
      "Miya : 16\n",
      "Landon : 52\n",
      "Emily : 6\n",
      "Kylan : 9\n",
      "Aneesah : 43\n",
      "Zacharia : 27\n",
      "Jocelyn : 57\n",
      "Valerie : 4\n",
      "Arla : 12\n",
      "Paddy : 50\n",
      "Jaspal : 57\n",
      "Shona : 58\n",
      "Byron : 4\n",
      "Arif : 55\n",
      "Darien : 45\n",
      "Ammaarah : 44\n",
      "Eshaan : 44\n",
      "Kristin : 21\n",
      "Manahil : 43\n",
      "Bonita : 47\n",
      "Romy : 5\n",
      "Taslima : 43\n",
      "Yasmine : 56\n",
      "Levi : 55\n",
      "Sienna : 56\n",
      "Maeve : 13\n",
      "Giacomo : 43\n",
      "Omari : 4\n",
      "Habib : 6\n",
      "Vikram : 43\n"
     ]
    }
   ],
   "source": [
    "#B7\n",
    "# 2\n",
    "dorf={\"Rida\": [\"Kamron\"], \"Aryaan\": [\"Delilah\"], \"Lainey\": [\"Enoch\"], \"Eboni\": [\"Byron\"], \"Fariha\": [\"Hamzah\"], \"Anita\": [\"Habib\"], \"Emme\": [\"Jokubas\", \"Ammaarah\"], \"Lois\": [\"Arif\"], \"Ralph\": [\"Antoni\"], \"Abel\": [\"Braiden\", \"Bilal\"], \"Stanislaw\": [\"Omari\"], \"Wallace\": [\"Corbin\"], \"Melanie\": [\"Mamie\"], \"Theresa\": [\"Markus\", \"Sabiha\"], \"Gracie-Mae\": [\"Bonita\"], \"Bailey\": [\"Fariha\"], \"Khalil\": [\"Khaleesi\", \"Theresa\"], \"Misha\": [\"Sabiha\"], \"Kamron\": [\"Henna\", \"Taslima\"], \"Kit\": [\"Piers\"], \"Darragh\": [\"Haidar\", \"Mamie\"], \"Everett\": [\"Arla\"], \"Khaleesi\": [\"Ayub\", \"Khalil\"], \"Haidar\": [\"Amalia\"], \"Flynn\": [\"Theresa\"], \"Arsalan\": [\"Abel\"], \"Katlyn\": [\"Sabiha\", \"Shona\"], \"Hina\": [\"Delilah\", \"Daniel\"], \"Milton\": [\"Amalia\", \"Shona\"], \"Halimah\": [\"Katrina\"], \"Piers\": [\"Theresa\", \"Hamzah\"], \"Theodora\": [\"Kylan\", \"Katrina\"], \"Jokubas\": [\"Eboni\", \"Jocelyn\"], \"Hendrix\": [\"Kwame\", \"Jean-Luc\"], \"Katrina\": [\"Lainey\", \"Aneesah\"], \"Elizabeth\": [\"Myah\"], \"Delilah\": [\"Ayub\"], \"Daniel\": [\"Byron\", \"Enoch\"], \"Aniela\": [\"Omari\", \"Markus\"], \"Hamzah\": [\"Omari\", \"Lilly\"], \"Noah\": [\"Haidar\", \"Anita\"], \"Teejay\": [\"Kylan\", \"Kit\"], \"Corbin\": [\"Arla\", \"Giacomo\"], \"Ayub\": [\"Rida\", \"Jean-Luc\"], \"Isla-Rose\": [\"Arsalan\", \"Lois\"], \"Harvie\": [\"Gracie-Mae\"], \"Daisie\": [\"Kylan\", \"Eshaan\"], \"Catherine\": [\"Jean-Luc\", \"Byron\"], \"Markus\": [\"Anita\"], \"Antoni\": [\"Emily\"], \"Scarlette\": [\"Maeve\", \"Khaleesi\"], \"Amalia\": [\"Lainey\", \"Miya\"], \"Carlo\": [\"Safaa\"], \"Enid\": [\"Haidar\"], \"Kwame\": [\"Lainey\"], \"Hawwa\": [\"Paddy\"], \"Arman\": [\"Haidar\", \"Kamron\"], \"Enoch\": [\"Haidar\"], \"Bilal\": [\"Maeve\", \"Everett\"], \"Myah\": [\"Arman\", \"Noah\"], \"Lilly\": [\"Kwame\", \"Scarlette\"], \"Scarlett-Rose\": [\"Kwame\"], \"Henna\": [\"Myah\", \"Arman\"], \"Braiden\": [\"Darragh\"], \"Farzana\": [\"Piers\"], \"Jayde\": [\"Aneesah\"], \"Mamie\": [\"Emily\"], \"Jean-Luc\": [\"Byron\", \"Vikram\"], \"Sabiha\": [\"Markus\", \"Arla\"], \"Safaa\": [\"Jocelyn\"], \"Miya\": [\"Bilal\"], \"Landon\": [\"Fariha\", \"Abel\"], \"Emily\": [\"Romy\", \"Valerie\"], \"Kylan\": [\"Melanie\"], \"Aneesah\": [\"Lilly\"], \"Zacharia\": [\"Braiden\", \"Enid\"], \"Jocelyn\": [\"Scarlette\", \"Sienna\"], \"Valerie\": [\"Eboni\"], \"Arla\": [\"Flynn\"], \"Paddy\": [\"Harvie\"], \"Jaspal\": [\"Daisie\", \"Landon\"], \"Shona\": [\"Flynn\", \"Isla-Rose\"], \"Byron\": [\"Omari\"], \"Arif\": [\"Levi\"], \"Darien\": [\"Aryaan\"], \"Ammaarah\": [\"Manahil\"], \"Eshaan\": [\"Wallace\"], \"Kristin\": [\"Lainey\"], \"Manahil\": [\"Myah\"], \"Bonita\": [\"Bailey\", \"Theresa\"], \"Romy\": [\"Valerie\"], \"Taslima\": [\"Wallace\"], \"Yasmine\": [\"Stanislaw\", \"Lois\"], \"Levi\": [\"Lois\", \"Landon\"], \"Sienna\": [\"Lois\"], \"Maeve\": [\"Theresa\", \"Markus\"], \"Giacomo\": [\"Aneesah\"], \"Omari\": [\"Valerie\"], \"Habib\": [\"Stanislaw\"], \"Vikram\": [\"Manahil\", \"Hina\"]}\n",
    "print(geruecht_verbreiten(\"Omari\"))\n",
    "for name in dorf:\n",
    "    hat_von_geruecht_erfahren = geruecht_verbreiten(name)\n",
    "    laenge = len(hat_von_geruecht_erfahren)\n",
    "    if laenge < len(dorf.keys()):\n",
    "        print(name + \" : \" + str(laenge))"
   ]
  },
  {
   "cell_type": "code",
   "execution_count": 28,
   "metadata": {},
   "outputs": [
    {
     "name": "stdout",
     "output_type": "stream",
     "text": [
      "{'E': 3, 's': 90, 'w': 25, 'a': 74, 'r': 75, 'e': 209, 'i': 105, 'n': 146, 'm': 27, 'l': 44, 'L': 4, 'd': 84, 'g': 50, 'o': 26, 'K': 5, 'ü': 10, 'b': 14, 'W': 7, 'c': 26, 'h': 49, 'B': 3, 'u': 41, 'Ä': 1, 'k': 9, 't': 64, 'V': 1, 'ö': 7, 'M': 5, 'H': 6, 'f': 9, '.': 11, 'D': 7, 'v': 5, 'p': 6, 'j': 4, 'P': 1, ';': 3, 'T': 4, 'N': 3, 'ä': 6, 'z': 11, 'G': 1, 'S': 10, ':': 2, '„': 2, '“': 2, 'A': 1, 'U': 2, 'F': 1}\n"
     ]
    }
   ],
   "source": [
    "# B7 Jedes im Eigabestring aufgetauchte Symbol zaehlen und als dict ausgeben\n",
    "# 3\n",
    "geschichte = \"Es war einmal in einem Lande grosse Klage über ein Wildschwein, das den Bauern die Äcker umwühlte, das Vieh tötete und den Menschen mit seinen Hauern den Leib aufriss. Der König versprach einem jeden, der das Land von dieser Plage befreien würde, eine grosse Belohnung; aber das Tier war so gross und stark, dass sich niemand in die Nähe des Waldes wagte, worin es hauste. Endlich liess der König bekanntmachen, wer das Wildschwein einfange oder töte, solle seine einzige Tochter zur Gemahlin haben. Nun lebten zwei Brüder in dem Lande, Söhne eines armen Mannes, die meldeten sich und wollten das Wagnis übernehmen. Der älteste, der listig und klug war, tat es aus Hochmut, der jüngste, der unschuldig und dumm war, aus gutem Herzen. Der König sagte: „Damit ihr desto sicherer das Tier findet, so sollt ihr von entgegengesetzten Seiten in den Wald gehen.“ Da ging der älteste von Abend und der jüngste von Morgen hinein. Und als der jüngste ein Weilchen gegangen war, so trat ein kleines Männlein zu ihm; das hielt einen schwarzen Spiess in der Hand und sprach: „Diesen Spiess gebe ich dir, weil dein Herz unschuldig und gut ist; damit kannst du getrost auf das wilde Schwein eingehen, es wird dir keinen Schaden zufügen.“ Er dankte dem Männlein, nahm den Spiess auf die Schulter und ging ohne Furcht weiter. Nicht lange, so erblickte er das Tier, das auf ihn losrannte, er hielt ihm aber den Spiess entgegen, und in seiner blinden Wut rannte es so gewaltig hinein, dass ihm das Herz entzweigeschnitten ward. Da nahm er das Ungetüm auf die Schulter, ging heimwärts und wollte es dem Könige bringen.\"\n",
    "geschichte_lueckenlos = geschichte.replace(\" \", \"\")\n",
    "geschichte_lueckenlos = geschichte_lueckenlos.replace(\",\", \"\")\n",
    "#print(geschichte_lueckenlos)\n",
    "\n",
    "def symbole_zaehlen(eingabe_string):\n",
    "    rueckgabe_dictionary = {}\n",
    "    for symbol in eingabe_string:\n",
    "        if symbol in rueckgabe_dictionary:\n",
    "            rueckgabe_dictionary [symbol] = rueckgabe_dictionary [symbol] + 1\n",
    "        else: \n",
    "            rueckgabe_dictionary [symbol] = 1\n",
    "    return rueckgabe_dictionary\n",
    "print(symbole_zaehlen(geschichte_lueckenlos))\n",
    "\n",
    "        \n",
    "\n",
    "\n"
   ]
  },
  {
   "cell_type": "code",
   "execution_count": null,
   "metadata": {},
   "outputs": [],
   "source": [
    "# B8\n",
    "# 1\n",
    "def multi_replace(eingabe_string, eingabe_dicti):\n",
    "    \n"
   ]
  },
  {
   "cell_type": "code",
   "execution_count": null,
   "metadata": {},
   "outputs": [],
   "source": [
    "# B8\n",
    "# 2\n"
   ]
  },
  {
   "cell_type": "code",
   "execution_count": null,
   "metadata": {},
   "outputs": [],
   "source": [
    "# B8\n",
    "# 3\n"
   ]
  },
  {
   "cell_type": "code",
   "execution_count": null,
   "metadata": {},
   "outputs": [],
   "source": [
    "# B8\n",
    "# 4"
   ]
  },
  {
   "cell_type": "code",
   "execution_count": null,
   "metadata": {},
   "outputs": [],
   "source": [
    "# B8\n",
    "# 5"
   ]
  },
  {
   "cell_type": "code",
   "execution_count": null,
   "metadata": {},
   "outputs": [],
   "source": [
    "# Mit impportierter Datei arbeiten\n",
    "import umrechner\n",
    "\n",
    "modus = umrechner.modus_einlesen()\n",
    "zahl = umrechner.zahl_einlesen()\n",
    "\n",
    "if modus == \"F nach C\":\n",
    "  wert = umrechner.fahrenheit_zu_celsius(zahl)\n",
    "  print(\"Der Wert der Umrechnung von \" +str (zahl)+\"°C nach Fahrenheit ist: \" + str (wert) + \"°F\")\n",
    "elif modus == \"C nach F\":\n",
    "  wert = umrechner.celsius_zu_fahrenheit(zahl)\n",
    "  print(\"Der Wert der Umrechnung von \" +str (zahl)+\"°F nach Celsius ist: \" + str (wert) + \"°C\")\n",
    "\n",
    "# 2. Erweitere das Modul umrechner.py, um eine Funktion für die Umrechnung von Celsius nach Kelvin und umgekehrt zu erhalten. Die Formel zur Umrechnung lautet C + 273,15 = K. Frage nach einer Zahl und führe im Anschluss eine Umrechnung durch. \n",
    "\n",
    "zahl = umrechner.zahl_einlesen()\n",
    "\n",
    "wert = umrechner.celsius_zu_kelvin(zahl)\n",
    "\n",
    "print(\"Der Wert der Umrechnung von {}°C nach Kelvin ist: {}°K\".format(zahl, wert))\n",
    "\n",
    "# 3. Importiere ausschließlich die Funktion celsius_zu_fahrenheit!\n",
    "\n",
    "from umrechner import celsius_zu_fahrenheit\n",
    "\n",
    "# 4. Importiere das Modul einheiten.py aus dem Unterordner \"physik\" und führe alle Funktionen einmal aus. \n",
    "\n",
    "import physik.einheiten\n",
    "\n",
    "physik.einheiten.celsius()\n",
    "physik.einheiten.fahrenheit()\n",
    "physik.einheiten.kelvin()"
   ]
  },
  {
   "cell_type": "code",
   "execution_count": 30,
   "metadata": {},
   "outputs": [
    {
     "data": {
      "text/plain": [
       "20.085536923187668"
      ]
     },
     "execution_count": 30,
     "metadata": {},
     "output_type": "execute_result"
    }
   ],
   "source": [
    "import math\n",
    "math.exp(3)"
   ]
  },
  {
   "cell_type": "code",
   "execution_count": 34,
   "metadata": {},
   "outputs": [
    {
     "name": "stdout",
     "output_type": "stream",
     "text": [
      "Zufallszahl ist ungerade\n",
      "Zufallszahl ist gerade\n",
      "Zufallszahl ist ungerade\n",
      "Zufallszahl ist gerade\n",
      "Zufallszahl ist gerade\n",
      "Zufallszahl ist ungerade\n",
      "Zufallszahl ist gerade\n",
      "Zufallszahl ist ungerade\n",
      "Zufallszahl ist gerade\n",
      "Zufallszahl ist gerade\n",
      "None\n"
     ]
    }
   ],
   "source": [
    "import random\n",
    "\n",
    "random.seed(20)\n",
    "for zahl in range(10):\n",
    "\tif random.randint(0, 99) % 2 == 1:\n",
    "\t\tprint(\"Zufallszahl ist gerade\")\n",
    "\telse:\n",
    "\t\tprint(\"Zufallszahl ist ungerade\")\n"
   ]
  },
  {
   "cell_type": "code",
   "execution_count": null,
   "metadata": {},
   "outputs": [],
   "source": [
    "\n",
    "# 1. Gib einen zufälligen Buchstaben des Strings string aus. Alle Buchstaben sollen klein geschrieben sein. \n",
    "\n",
    "string = \"Fischers Fritz fischt frische Fische\"\n",
    "\n",
    "import random\n",
    "\n",
    "# Als Kleinbuchstaben und ohne Leerzeichen.\n",
    "string = string.replace(\" \",\"\")\n",
    "string = string.lower()\n",
    "\n",
    "# Buchstabe auswählen \n",
    "buchstabe = string[random.randint(1, len(string) - 1)]\n",
    "print(buchstabe)\n",
    "\n",
    "\n",
    "# 2.Gib einen zufälligen Buchstaben des Strings string aus. Berücksichtige dabei, dass kein Mehrfachvorkommen von Buchstaben gibt. Das heißt, dass es nicht wahrscheinlicher sein darf, den Buchstaben b auszuwählen, wenn er zweimal in der Eingabe vorkommt, als einen Buchstaben, der nur einmal vorkommt. Alle Buchstaben sollen klein geschrieben sein. \n",
    "\n",
    "liste = list(set(string))\n",
    "\n",
    "buchstabe = liste[random.randint(1, len(liste) - 1)]\n",
    "print(buchstabe)\n",
    "\n",
    "# 3. Schreibe eine Funktion, mit der sich der Umfang eines Kreises anhand des Radius des Kreises berechnen lässt - mithilge des math-Moduls. Gib den Umfang eines Kreises mit Radius r = 3 aus.\n",
    "\n",
    "# Tipp: U = 2·π·r ist die Formel zur Berechnung des Umfangs eines Kreises mithilfe des Radius ebendieses Kreises.\n",
    "\n",
    "import math\n",
    "\n",
    "def umfang(radius):\n",
    "  return 2 * math.pi * radius\n",
    "  \n",
    "print(umfang(3))"
   ]
  },
  {
   "cell_type": "code",
   "execution_count": 1,
   "metadata": {},
   "outputs": [],
   "source": [
    "import csv\n",
    "datei = open (\"Datei.csv\")\n",
    "einleser = csv.DictReader (datei)\n"
   ]
  },
  {
   "cell_type": "code",
   "execution_count": 2,
   "metadata": {},
   "outputs": [
    {
     "name": "stdout",
     "output_type": "stream",
     "text": [
      "18.84955592153876\n"
     ]
    }
   ],
   "source": [
    "# Schreibe eine Funktion, mit der sich der Umfang eines Kreises anhand des Radius des Kreises berechnen lässt - mithilge des math-Moduls. Gib den Umfang eines Kreises mit Radius r = 3 aus.\n",
    "\n",
    "# Tipp: U = 2·π·r ist die Formel zur Berechnung des Umfangs eines Kreises mithilfe des Radius ebendieses Kreises.\n",
    "\n",
    "import math\n",
    "\n",
    "def umfang(radius):\n",
    "  return 2 * math.pi * radius\n",
    "\n",
    "print(umfang(3))"
   ]
  },
  {
   "cell_type": "code",
   "execution_count": 3,
   "metadata": {},
   "outputs": [
    {
     "name": "stdout",
     "output_type": "stream",
     "text": [
      "{'Name': 'Dieter Schloesser', 'Geburtstag': '20.12.90', 'ID': '86473259212', 'Lieblingslied': 'Surfin Bird'}\n",
      "{'Name': 'Maria Dunstlauf', 'Geburtstag': '11.11.96', 'ID': '46892739987', 'Lieblingslied': 'Boom Boom Boom'}\n",
      "{'Name': 'Philipp Tranborn', 'Geburtstag': '24.02.06', 'ID': '57844236952', 'Lieblingslied': 'Last Christmas'}\n",
      "{}\n"
     ]
    }
   ],
   "source": [
    "# 1. Importiere die CSV Datei als Dictionary und gib die ersten Reihen aus.\n",
    "\n",
    "import csv\n",
    "\n",
    "datei = open('Datei.csv')\n",
    "einleser = csv.DictReader(datei, delimiter = \";\")\n",
    "\n",
    "zaehler = 0\n",
    "for reihe in einleser:\n",
    "  if zaehler == 3: \n",
    "    break\n",
    "  print(reihe)\n",
    "  zaehler += 1\n",
    "\n",
    "# 2. Berechne den Durchschnitt der Gehälter für jede Branche. Welche Branche ist die lukrativste? Tipp: Vergiss nicht, die Zahlen zu konvertieren. Die CSV wird als Zeichenkette eingelesen. \n",
    "\n",
    "gehalt = {}\n",
    "\n",
    "# Gehe durch alle Einträge und sortiere die Gehälter nach Branche.\n",
    "for reihe in einleser:\n",
    "\n",
    "  #  Erstelle eine leere Liste, falls noch kein Eintrag im Dictionary vorhanden ist.\n",
    "  if reihe[\"Branche\"] not in gehalt.keys():\n",
    "    gehalt[reihe[\"Branche\"]] = []\n",
    "  \n",
    "  # Konvertiere den Typ von String zu int und füge die Zahl in die Gehaltliste der Branche ein.\n",
    "  gehalt[reihe[\"Branche\"]].append(int(reihe[\"Gehalt\"]))\n",
    "\n",
    "# Berechne den Durchschnitt für jede Branche.\n",
    "schnitt = {}\n",
    "for branche in gehalt.keys():\n",
    "  schnitt[branche] = sum(gehalt[branche]) / len(gehalt[branche])\n",
    "\n",
    "print(schnitt)\n",
    "datei.close()"
   ]
  },
  {
   "cell_type": "code",
   "execution_count": 5,
   "metadata": {},
   "outputs": [
    {
     "ename": "FileNotFoundError",
     "evalue": "[Errno 2] No such file or directory: 'pflanzen.txt'",
     "output_type": "error",
     "traceback": [
      "\u001b[1;31m---------------------------------------------------------------------------\u001b[0m",
      "\u001b[1;31mFileNotFoundError\u001b[0m                         Traceback (most recent call last)",
      "\u001b[1;32mc:\\Users\\Anna\\Downloads\\Coden PartB-2.ipynb Zelle 93\u001b[0m in \u001b[0;36m<cell line: 3>\u001b[1;34m()\u001b[0m\n\u001b[0;32m      <a href='vscode-notebook-cell:/c%3A/Users/Anna/Downloads/Coden%20PartB-2.ipynb#Y161sZmlsZQ%3D%3D?line=0'>1</a>\u001b[0m \u001b[39m# 1. Ergänze die relativen Pfade zu den jeweiligen Dateien.\u001b[39;00m\n\u001b[1;32m----> <a href='vscode-notebook-cell:/c%3A/Users/Anna/Downloads/Coden%20PartB-2.ipynb#Y161sZmlsZQ%3D%3D?line=2'>3</a>\u001b[0m datei \u001b[39m=\u001b[39m \u001b[39mopen\u001b[39;49m(\u001b[39m\"\u001b[39;49m\u001b[39mpflanzen.txt\u001b[39;49m\u001b[39m\"\u001b[39;49m)                  \u001b[39m# pflanzen.txt\u001b[39;00m\n\u001b[0;32m      <a href='vscode-notebook-cell:/c%3A/Users/Anna/Downloads/Coden%20PartB-2.ipynb#Y161sZmlsZQ%3D%3D?line=3'>4</a>\u001b[0m datei\u001b[39m.\u001b[39mclose()\n\u001b[0;32m      <a href='vscode-notebook-cell:/c%3A/Users/Anna/Downloads/Coden%20PartB-2.ipynb#Y161sZmlsZQ%3D%3D?line=5'>6</a>\u001b[0m datei \u001b[39m=\u001b[39m \u001b[39mopen\u001b[39m(\u001b[39m\"\u001b[39m\u001b[39m./Tiere/pferde.csv\u001b[39m\u001b[39m\"\u001b[39m)            \u001b[39m# pferde.csv\u001b[39;00m\n",
      "\u001b[1;31mFileNotFoundError\u001b[0m: [Errno 2] No such file or directory: 'pflanzen.txt'"
     ]
    }
   ],
   "source": [
    "# 1. Ergänze die relativen Pfade zu den jeweiligen Dateien.\n",
    "\n",
    "datei = open(\"pflanzen.txt\")                  # pflanzen.txt\n",
    "datei.close()\n",
    "\n",
    "datei = open(\"./Tiere/pferde.csv\")            # pferde.csv\n",
    "datei.close()\n",
    "\n",
    "datei = open(\"./Tiere/print_pferde.py\")       # print_pferde.py\n",
    "datei.close()\n",
    "\n",
    "datei = open(\"./Tiere/Kleintiere/katzen.csv\") # katzen.csv\n",
    "datei.close()\n",
    "\n",
    "datei = open(\"./Tiere/Kleintiere/hunde.txt\")  # hunde.txt\n",
    "datei.close()\n",
    "\n",
    "# 2. Importiere die Funktion oeffne_pferde aus oeffne_pferde.py. Passe den Code in oeffne_pferde.py so an, dass die importierte Funktion keinen Fehler bei der Ausführung in main.py anzeigt!\n",
    "\n",
    "import Tiere.Kleintiere.oeffne_pferde as pferde\n",
    "\n",
    "pferde.oeffne_pferde()"
   ]
  },
  {
   "cell_type": "code",
   "execution_count": 3,
   "metadata": {},
   "outputs": [
    {
     "name": "stdout",
     "output_type": "stream",
     "text": [
      "Hallo in Anführungszeichen: \"Hallo\"\n",
      "Hallo \n",
      " Arbeit\n",
      "Hallo \\n Arbeit\n",
      "Hallo \"\\n\" Arbeit\n"
     ]
    }
   ],
   "source": [
    "# Escapen von Symbolen\n",
    "string_1 = \"Hallo in Anführungszeichen: \\\"Hallo\\\"\"\n",
    "print(string_1)\n",
    "\n",
    "string_2 = \"Hallo \\n Arbeit\"\n",
    "print(string_2)\n",
    "\n",
    "string_3 = \"Hallo \\\\n Arbeit\"\n",
    "print(string_3)\n",
    "\n",
    "string_4 = \"Hallo \\\"\\\\n\\\" Arbeit\"\n",
    "print(string_4)"
   ]
  },
  {
   "cell_type": "code",
   "execution_count": null,
   "metadata": {},
   "outputs": [],
   "source": [
    "# 1. Öffne print_pferde.py und schreibe mit der write-Funktion die Funktion print_pferde(), welche die Datei pferde.csv öffnet, und alle Zeilen ausgibt, indem du über alle Zeilen iterierst. Importiere danach print_pferde.py als Modul und führe die Funktion aus. \n",
    "\n",
    "with open(\"./Tiere/print_pferde.py\", mode=\"w\") as datei:\n",
    "  datei.write(\"def print_pferde():\\n\")\n",
    "  datei.write(\" datei = open(\\\"./Tiere/pferde.csv\\\")\\n\")\n",
    "  datei.write(\" for line in datei:\\n\")\n",
    "  datei.write(\"   print(line)\\n\")\n",
    "\n",
    "from Tiere.print_pferde import print_pferde\n",
    "\n",
    "print_pferde()\n",
    "\n",
    "# 2. Öffne kombiniere.py und schreibe mit der writelines-Funktion die Funktion kombiniere_tiere(), welche alle Zeilen aus pferde.csv, katzen.csv, insekten.txt und hunde.txt einliest, sowie in eine neue Datei lebewesen_1.txt schreibt. \n",
    "\n",
    "with open(\"./Tiere/kombiniere.py\", mode=\"w\") as datei:\n",
    "  \n",
    "  quelltext = [\n",
    "    \"def kombiniere_tiere():\\n\",\n",
    "    \" zeilen_pferde = open(\\\"./Tiere/pferde.csv\\\").readlines()\\n\",\n",
    "    \" zeilen_katzen = open(\\\"./Tiere/Kleintiere/katzen.csv\\\").readlines()\\n\",\n",
    "    \" zeilen_hunde = open(\\\"./Tiere/Kleintiere/hunde.txt\\\").readlines()\\n\",\n",
    "    \" zeilen_pflanzen = open(\\\"pflanzen.txt\\\").readlines()\\n\",\n",
    "    \" zeilen_gesamt = zeilen_pferde + [\\\"\\\\n\\\"] + zeilen_katzen + [\\\"\\\\n\\\"] + zeilen_hunde + zeilen_pflanzen\\n\",\n",
    "    \" print(zeilen_gesamt)\\n\",\n",
    "    \" open(\\\"./lebewesen_1.txt\\\", mode='w').writelines(zeilen_gesamt)\\n\"\n",
    "  ]\n",
    "\n",
    "  datei.writelines(quelltext)\n",
    "\n",
    "\n",
    "from Tiere.kombiniere import kombiniere_tiere\n",
    "\n",
    "kombiniere_tiere()\n",
    "\n",
    "# 3. Öffne kombiniere_v2.py und schreibe mit der writelines-Funktion die Funktion kombiniere_tiere_v2(), welche genau wie in Aufgabe 2 funktioniert, nur dass diese eine neue Datei lebewesen_2.txt erstellt und jeder Eintrag eines Lebewesens in einer eigenen Zeile steht. \n",
    "\n",
    "with open(\"./Tiere/kombiniere_v2.py\", mode=\"w\") as datei:\n",
    "  \n",
    "  quelltext = [\n",
    "    \"def kombiniere_tiere_v2():\\n\",\n",
    "    \" zeilen_pferde = open(\\\"./Tiere/pferde.csv\\\").readlines()\\n\",\n",
    "    \" zeilen_katzen = open(\\\"./Tiere/Kleintiere/katzen.csv\\\").readlines()\\n\",\n",
    "    \" zeilen_hunde = open(\\\"./Tiere/Kleintiere/hunde.txt\\\").readlines()\\n\",\n",
    "    \" zeilen_pflanzen = open(\\\"pflanzen.txt\\\").readlines()\\n\",\n",
    "    \" zeilen_katzen = [eintrag + \\\"\\\\n\\\" for eintrag in zeilen_katzen[0].split(\\\",\\\"\"\")]\\n\"\n",
    "    \" zeilen_pflanzen = [eintrag + \\\"\\\\n\\\" for eintrag in zeilen_pflanzen[0].split(\\\", \\\"\"\")]\\n\"\n",
    "    \" zeilen_gesamt = zeilen_pferde + [\\\"\\\\n\\\"] + zeilen_katzen  + zeilen_hunde + zeilen_pflanzen\\n\",\n",
    "    \" print(zeilen_gesamt)\\n\",\n",
    "    \" open(\\\"./lebewesen_2.txt\\\", mode=\\\"w\\\").writelines(zeilen_gesamt)\\n\"\n",
    "  ]\n",
    "\n",
    "  datei.writelines(quelltext)\n",
    "\n",
    "\n",
    "from Tiere.kombiniere_v2 import kombiniere_tiere_v2\n",
    "\n",
    "kombiniere_tiere_v2()"
   ]
  },
  {
   "cell_type": "code",
   "execution_count": null,
   "metadata": {},
   "outputs": [],
   "source": [
    "# Aufgabe: betrachte den folgenden Code und verstehe seine Funktionalität\n",
    "\n",
    "from gehalt import gehalt_analysieren\n",
    "\n",
    "def alles_in_einem():\n",
    "  ersetze = input(\"Welche Zeichenkette ersetzen? \")\n",
    "  mit = input(\"Durch welche Zeichenkette? \")\n",
    "  programm_neu = []\n",
    "  with open(\"gehalt.py\") as datei:\n",
    "    programm = datei.readlines()\n",
    "    for zeile in programm:\n",
    "      programm_neu.append(zeile.replace(ersetze, mit))\n",
    "  with open(\"gehalt.py\", mode=\"w\") as datei:\n",
    "    datei.writelines(programm_neu)\n",
    "\n",
    "alles_in_einem()\n",
    "gehalt_analysieren()\n",
    "# weiter gehts\n",
    "import csv\n",
    "\n",
    "def gehalt_analysieren():\n",
    "\n",
    "  datei = open(\"gehalt.csv\")\n",
    "  einleser = csv.DictReader(datei, delimiter=\";\")\n",
    "  \n",
    "\n",
    "  gehalt = {}\n",
    "\n",
    "  # gehe durch alle Einträge sortiere die gehälter nach Branche\n",
    "  for reihe in einleser:\n",
    "\n",
    "    # Falls noch kein Eintrag im Dictionary vorhanden ist, erstelle eine leere Liste\n",
    "    if reihe[\"Branche\"] not in gehalt.keys():\n",
    "      gehalt[reihe[\"Branche\"]] = []\n",
    "    \n",
    "    # Konvertiere den Typ von String zu int und füge die Zahl in die gehaltliste der Branche ein\n",
    "    gehalt[reihe[\"Branche\"]].append(int(reihe[\"Gehalt\"]))\n",
    "\n",
    "  # Berechnen des Durschnitts für jede Branche.\n",
    "  schnitt = {}\n",
    "  for branche in gehalt.keys():\n",
    "    schnitt[branche] = sum(gehalt[branche])/len(gehalt[branche])\n",
    "\n",
    "  print(schnitt)\n",
    "  datei.close()\n",
    "\n",
    "# Lösung\n",
    "# Tiel 1\n",
    "\n",
    "from gehalt import gehalt_analysieren\n",
    "\n",
    "def alles_in_einem():\n",
    "  ersetze = input(\"Welche Zeichenkette ersetzen? \")\n",
    "  mit = input(\"Durch welche Zeichenkette? \")\n",
    "  programm_neu = []\n",
    "  with open(\"gehalt.py\") as datei:\n",
    "    programm = datei.readlines()\n",
    "    for zeile in programm:\n",
    "      programm_neu.append(zeile.replace(ersetze, mit))\n",
    "  with open(\"gehalt.py\", mode=\"w\") as datei:\n",
    "    datei.writelines(programm_neu)\n",
    "\n",
    "alles_in_einem()\n",
    "gehalt_analysieren()\n",
    "# Teil 2\n",
    "import csv\n",
    "\n",
    "def gehalt_analysieren():\n",
    "\n",
    "  datei = open(\"gehalt.csv\")\n",
    "  einleser = csv.DictReader(datei, delimiter=\";\")\n",
    "  \n",
    "\n",
    "  gehalt = {}\n",
    "\n",
    "  # Gehe durch alle Einträge sortiere die Gehälter nach Branche\n",
    "  for reihe in einleser:\n",
    "\n",
    "    # Falls noch kein Eintrag im Dictionary vorhanden ist, erstelle eine leere Liste\n",
    "    if reihe[\"Branche\"] not in gehalt.keys():\n",
    "      gehalt[reihe[\"Branche\"]] = []\n",
    "    \n",
    "    # Konvertiere den Typ von String zu int und füge die Zahl in die Gehaltliste der Branche ein\n",
    "    gehalt[reihe[\"Branche\"]].append(int(reihe[\"Gehalt\"]))\n",
    "\n",
    "  # Berechnen des Durschnitts für jede Branche.\n",
    "  schnitt = {}\n",
    "  for branche in gehalt.keys():\n",
    "    schnitt[branche] = sum(gehalt[branche])/len(gehalt[branche])\n",
    "\n",
    "  print(schnitt)\n",
    "  datei.close()\n",
    "  # Manipuliere Programm\n",
    "  def eingabe_einlesen():\n",
    "  ersetze = input(\"Welche Zeichenkette ersetzen? \")\n",
    "  mit = input(\"Durch welche Zeichenkette? \")\n",
    "\n",
    "  return ersetze, mit\n",
    "\n",
    "def manipuliere_programm(ersetze, mit):\n",
    "  \n",
    "  programm_neu = []\n",
    "  with open(\"gehalt.py\") as datei:\n",
    "    \n",
    "    programm = datei.readlines()\n",
    "    for zeile in programm:\n",
    "      programm_neu.append(zeile.replace(ersetze, mit))\n",
    "  \n",
    "  return programm_neu\n",
    "\n",
    "def schreibe_programm(programm_neu):\n",
    "  with open(\"gehalt.py\", mode=\"w\") as datei:\n",
    "    datei.writelines(programm_neu)"
   ]
  },
  {
   "cell_type": "code",
   "execution_count": 42,
   "metadata": {},
   "outputs": [
    {
     "name": "stdout",
     "output_type": "stream",
     "text": [
      "Mitzi wird mit Fisch gefüttert!\n",
      "Knoffi wird mit Trockenfutter gefüttert!\n",
      "Apple wird mit Heu gefüttert!\n",
      "Karotte\n"
     ]
    }
   ],
   "source": [
    "# Klassen begins!!!\n",
    "class Haustier:\n",
    "    def __init__(self,name,futter):\n",
    "        self.name = name\n",
    "        self.lieblingsfutter = futter\n",
    "# Hier wird Funktion fuettern () definiert\n",
    "    def fuettern(self):\n",
    "        print(\"{name} wird mit {futter} gefüttert!\".format(name=self.name, futter = self.lieblingsfutter))\n",
    "# Hier werden Argumente übergeben\n",
    "meine_katze = Haustier(\"Mitzi\", \"Fisch\")\n",
    "mein_hundi = Haustier(\"Knoffi\", \"Trockenfutter\")\n",
    "mein_hasi = Haustier(\"Apple\", \"Heu\")\n",
    "\n",
    "meine_katze.fuettern()\n",
    "mein_hundi.fuettern()\n",
    "mein_hasi.fuettern()\n",
    "\n",
    "# Zuweisung von Werten mit . - Operator und Zugriff\n",
    "mein_hasi.lieblingsfutter = \"Karotte\"\n",
    "print(mein_hasi.lieblingsfutter)"
   ]
  },
  {
   "cell_type": "code",
   "execution_count": 3,
   "metadata": {},
   "outputs": [
    {
     "name": "stdout",
     "output_type": "stream",
     "text": [
      "2\n",
      "4\n",
      "8\n",
      "16\n",
      "32\n",
      "64\n",
      "128\n",
      "256\n",
      "512\n",
      "1024\n"
     ]
    }
   ],
   "source": [
    "#Passe die Klassendefinition im Code so an, dass die ersten 10 2-er Potenzen (2,4,8 usw.) ausgegeben werden.\n",
    "\n",
    "class Potenzen:\n",
    "    wert = 1\n",
    "    def __init__(self):\n",
    "        Potenzen.wert = Potenzen.wert * 2\n",
    "\n",
    "for index in range(10):\n",
    "    eine_neue_instanz = Potenzen()\n",
    "    print(Potenzen.wert)"
   ]
  },
  {
   "cell_type": "code",
   "execution_count": 4,
   "metadata": {},
   "outputs": [
    {
     "name": "stdout",
     "output_type": "stream",
     "text": [
      "Hallo Welt!\n",
      "Hallo Welt!\n",
      "Hallo Welt!\n",
      "Hallo Welt!\n",
      "Hallo Welt!\n",
      "Hallo Welt!\n",
      "Hallo Welt!\n",
      "Hallo Welt!\n",
      "Hallo Welt!\n",
      "Hallo Welt!\n"
     ]
    }
   ],
   "source": [
    "# Passe den Code so an, dass 10-mal \"Hallo Welt!\" ausgegeben wird\n",
    "class HalloWelt:\n",
    "\n",
    "  def __init__(self):\n",
    "    self.nachricht = \"Hallo Welt!\"\n",
    "\n",
    "  def einmal_ausgeben(self):\n",
    "    print(self.nachricht)\n",
    "\n",
    "  def x_mal_ausgeben(self, x):\n",
    "    for index in range(x):\n",
    "      self.einmal_ausgeben() # Aufruf\n",
    "\n",
    "hallo_welt = HalloWelt()\n",
    "hallo_welt.x_mal_ausgeben(10)"
   ]
  },
  {
   "cell_type": "code",
   "execution_count": 9,
   "metadata": {},
   "outputs": [
    {
     "name": "stdout",
     "output_type": "stream",
     "text": [
      "25\n",
      "Eine Instanz von MeineKlasse wurde erstellt!\n",
      "1\n",
      "30\n",
      "eine_methode wurde aufgerufen.\n",
      "2\n",
      "3\n",
      "eine_andere_methode wurde aufgerufen\n",
      "eine_methode wurde aufgerufen.\n",
      "eine_methode wurde aufgerufen.\n",
      "4\n"
     ]
    }
   ],
   "source": [
    "# Beispiel : Klassenmethoden können andere Klassenmethoden aufrufen\n",
    "class MeineKlasse:\n",
    "    \n",
    "    ein_geteiltes_attribut = 25\n",
    "    \n",
    "    def __init__(self, wert):\n",
    "            self.attribut1 = wert\n",
    "            MeineKlasse.ein_geteiltes_attribut += 5\n",
    "            print(\"Eine Instanz von MeineKlasse wurde erstellt!\")\n",
    "\n",
    "    def eine_methode(self):\n",
    "            print(\"eine_methode wurde aufgerufen.\")\n",
    "            self.attribut2 = 2\n",
    "            self.attribut1 = self.attribut1 + self.attribut2\n",
    "\n",
    "    def eine_andere_methode(self, zahl):\n",
    "            print(\"eine_andere_methode wurde aufgerufen\")\n",
    "            for index in range(zahl):\n",
    "                self.eine_methode()\n",
    "print(MeineKlasse.ein_geteiltes_attribut)\n",
    "eine_instanz = MeineKlasse(1)\n",
    "print(eine_instanz.attribut1)\n",
    "print(MeineKlasse.ein_geteiltes_attribut) #Klassenattribute sind immer initialisiert. Selbst, wenn es noch keine Instanz der Klasse gibt. Bei jedem Aufruf von __init__() wird der Wert von ein_geteiltes_attribut um 5 erhöht\n",
    "eine_instanz.eine_methode()\n",
    "print(eine_instanz.attribut2) #attribut2 wird beim Aufruf der Methode eine_methode() der Wert 2 zugewiesen\n",
    "print(eine_instanz.attribut1)\n",
    "\n",
    "eine_instanz.attribut1 = 0\n",
    "eine_instanz.eine_andere_methode(2)\n",
    "print(eine_instanz.attribut1) #Der Befehl eine_instanz.attribut1 = 0 setzt attribut1 auf 0. Der Aufruf von eine_andere_methode() mit Argument 2 sorgt für 2 Aufrufe von eine_methode(). Bei jedem dieser Aufrufe wird attribut1 um den Wert von attribut2 erhöht. Dieser ist 2."
   ]
  },
  {
   "cell_type": "code",
   "execution_count": null,
   "metadata": {},
   "outputs": [],
   "source": [
    "# Code ohne Vererbung\n",
    "class Hund:\n",
    "        def __init__(self, name, futter):\n",
    "                self.name = name\n",
    "                self.lieblingsfutter = futter\n",
    "\n",
    "        def fuettern(self):\n",
    "                print(\"{name} wird mit {futter} gefüttert!\".format(name=self.name,futter=self.lieblingsfutter))\n",
    "        \n",
    "        def apportieren(self):\n",
    "                print(\"{name} apportiert begeistert einen riesigen Stock.\".format(name=self.name))\n",
    "\n",
    "class Papagei:\n",
    "        def __init__(self, name, futter):\n",
    "                self.name = name\n",
    "                self.lieblingsfutter = futter\n",
    "\n",
    "        def fuettern(self):\n",
    "                print(\"{name} wird mit {futter} gefüttert!\".format(name=self.name,futter=self.lieblingsfutter))\n",
    "        \n",
    "        def fliegen(self):\n",
    "                print(\"{name} flattert aufgeregt im Raum umher.\".format(name=self.name))\n",
    "bello = Hund( \"Bello\", \"Würstchen\"))\n",
    "bello.apportieren()                                \n",
    "# Ergebnis: Bello apportiert begeistert einen riesigen Stock.\n",
    "\n",
    "polly = Papagei(\"Polly\", \"Vogelfutter\")\n",
    "polly.fliegen()                                        \n",
    "# Ergebnis: Polly flattert aufgeregt im Raum umher.\n",
    "# Nachteile: wir haben den gleichen Code mehrfach geschrieben und falls wir was anpassen wollen, müssen wir alle drei Teile anpassen "
   ]
  },
  {
   "cell_type": "code",
   "execution_count": null,
   "metadata": {},
   "outputs": [],
   "source": [
    "# code mit Vererbung\n",
    "class Hund( Haustier ):\n",
    "\tdef __init__( self, name, futter ): \n",
    "\t\tHaustier.__init__( self, name, futter )\n",
    "\t\n",
    "\tdef apportieren( self ):\n",
    "\t\tprint( \"{name} apportiert begeistert einen riesigen Stock.\".format(name=self.name))\n",
    "\n",
    "class Papagei( Haustier ):\n",
    "\tdef __init__( self, name, futter ):\n",
    "\t\tHaustier.__init__( self, name, futter )\n",
    "\t\n",
    "\tdef fliegen( self ):\n",
    "\t\tprint( \"{name} flattert aufgeregt im Raum umher.\".format(name=self.name))\n",
    "# Hier wird die Struktur zum Leben erweckt\n",
    "# wir haben drei Klassen: Haustier, Hund und Papagei\n",
    "# bello ist eine Objektvariable, die alles in sich hat\n",
    "bello = Hund( \"Bello\", \"Würstchen\" )\n",
    "bello.apportieren()\t\t\t\t\n",
    "#Ergebnis: Bello apportiert begeistert einen riesigen Stock.\n",
    "bello.fuettern()\t\t\t\t\t\n",
    "#Ergebnis: Bello wird mit Würstchen gefüttert!\n",
    "\n",
    "polly = Papagei( \"Polly\", \"Vogelfutter\" )\n",
    "polly.fliegen()\t\t\t\t\t\n",
    "#Ergebnis: Polly flattert aufgeregt im Raum umher.\n",
    "polly.fuettern()\t\t\t\t\t\n",
    "#Ergebnis: Polly wird mit Vogelfutter gefüttert!\n",
    "# beide neuen Klassen, Hund und Papagi, erben von der Klasse Haustier "
   ]
  },
  {
   "cell_type": "code",
   "execution_count": 16,
   "metadata": {},
   "outputs": [
    {
     "name": "stdout",
     "output_type": "stream",
     "text": [
      "Hallo, dies ist die Unterklasse\n"
     ]
    }
   ],
   "source": [
    "# Überschreiben. Standardkonstruktor wie hier ist nicht das beste, nur extra Fall, wenn man keinen konstruiert hat\n",
    "class Oberklasse:\n",
    "\n",
    "  def vorstellung(self):\n",
    "    print(\"Hallo, dies ist die Oberklasse!\")\n",
    "    \n",
    "\n",
    "class Unterklasse(Oberklasse):\n",
    "\n",
    "  def vorstellung(self): #Deine Eingabe\n",
    "    print(\"Hallo, dies ist die Unterklasse\")\n",
    "# Standardkonstruktor ohne Parameter, weil ich keinen gebaut habe\n",
    "instanz = Unterklasse()\n",
    "instanz.vorstellung()"
   ]
  },
  {
   "cell_type": "code",
   "execution_count": 1,
   "metadata": {},
   "outputs": [
    {
     "name": "stdout",
     "output_type": "stream",
     "text": [
      "Hallo, dies ist die Oberklasse!\n"
     ]
    }
   ],
   "source": [
    "# Überschreiben vermeiden\n",
    "class Oberklasse:\n",
    "\n",
    "  def vorstellung(self):\n",
    "    print(\"Hallo, dies ist die Oberklasse!\")\n",
    "    \n",
    "\n",
    "class Unterklasse(Oberklasse):\n",
    "\n",
    "  def vorstellung(self):\n",
    "    print(\"Hallo, dies ist die Unterklasse!\")\n",
    "\n",
    "\n",
    "instanz = Unterklasse()\n",
    "Oberklasse.vorstellung(instanz) # Zugriff auf die Definition in der Oberklasse"
   ]
  },
  {
   "cell_type": "code",
   "execution_count": 15,
   "metadata": {},
   "outputs": [],
   "source": [
    "# Testcode zum Üben\n",
    "class Oberklasse():\n",
    "    def __init__(self):\n",
    "            print(\"Oberklasse, init\")\n",
    "            self.attribut1 = \"Hallo Welt!\"\n",
    "\n",
    "    def methode_1(self):\n",
    "            self.methode_2()\n",
    "\n",
    "    def methode_2(self):\n",
    "            print(self.attribut1)\n",
    "\n",
    "class Unterklasse(Oberklasse):\n",
    "    def __init__(self):\n",
    "            Oberklasse.__init__(self)\n",
    "            print(\"Unterklasse, init\")\n",
    "            self.attribut2 = \"Esel Hund Katze Hahn\"\n",
    "\n",
    "    def methode_2(self):\n",
    "            print(self.attribut2)\n",
    "   "
   ]
  },
  {
   "cell_type": "code",
   "execution_count": null,
   "metadata": {},
   "outputs": [],
   "source": [
    "import math\n",
    "zufalls_zahl = random.randint(1, 10)                              \n",
    "zaehler = 1                                                \n",
    "while zaehler < 4:                                          \n",
    "  print(\"Geben Sie Ihren Tipp für die geheime Zahl ein!\")  \n",
    "  tipp = input()                                            \n",
    "  if int(tipp) == zufalls_zahl:\n",
    "    print(\"Zahl erraten, super!\")                          \n",
    "    break                                                  \n",
    "  else:\n",
    "    print(\"Leider daneben!\")                                \n",
    "    zaehler = zaehler + 1"
   ]
  },
  {
   "cell_type": "code",
   "execution_count": null,
   "metadata": {},
   "outputs": [],
   "source": [
    "# Pakete importieren\n",
    "\n",
    "import paket\n",
    "\n",
    "print(paket.name, paket.anzahl_module)\n",
    "\n",
    "paket.modul_1.foo()\n",
    "paket.modul_2.foo()\n",
    "paket.modul_3.foo()"
   ]
  },
  {
   "cell_type": "code",
   "execution_count": 31,
   "metadata": {},
   "outputs": [
    {
     "data": {
      "image/png": "[encoded data removed]",
      "text/plain": [
       "<Figure size 240x240 with 1 Axes>"
      ]
     },
     "metadata": {
      "needs_background": "light"
     },
     "output_type": "display_data"
    }
   ],
   "source": [
    "# Matplotlib\n",
    "\n",
    "import matplotlib.pyplot as plt\n",
    "plt.figure(figsize = (3, 3), dpi = 80)\n",
    "\n",
    "\n",
    "zu_plotten = [99, 98, 55, 111, 10, 1, 20, 70]\n",
    "plt.plot(zu_plotten)\n",
    "plt.ylabel(\"Gute Laune\")\n",
    "plt.xlabel(\"Anzahl Kurswochen\")\n",
    "plt.show()"
   ]
  },
  {
   "cell_type": "code",
   "execution_count": 11,
   "metadata": {},
   "outputs": [
    {
     "data": {
      "image/png": "[encoded data removed]",
      "text/plain": [
       "<Figure size 210x210 with 1 Axes>"
      ]
     },
     "metadata": {
      "needs_background": "light"
     },
     "output_type": "display_data"
    }
   ],
   "source": [
    "import math\n",
    "import matplotlib.pyplot as plt\n",
    "\n",
    "plt.figure(figsize=(3, 3), dpi = 70)\n",
    "\n",
    "sin_range = [math.sin(x / 10.0) for x in range (100)]\n",
    "cos_range = [math.cos(x / 10.0) for x in range (100)]\n",
    "float_range = [x / 10.0 for x in range (100)]\n",
    "\n",
    "plt.plot(float_range, sin_range, \"r\")\n",
    "plt.plot(float_range, cos_range, \"y\")\n",
    "\n",
    "plt.legend([\"Sinus\", \"Cosinus\"])\n",
    "plt.title(\"Sinus und Cosinus\")\n",
    "plt.show()"
   ]
  },
  {
   "cell_type": "code",
   "execution_count": 14,
   "metadata": {},
   "outputs": [
    {
     "data": {
      "image/png": "[encoded data removed]",
      "text/plain": [
       "<Figure size 240x240 with 1 Axes>"
      ]
     },
     "metadata": {
      "needs_background": "light"
     },
     "output_type": "display_data"
    },
    {
     "data": {
      "image/png": "[encoded data removed]",
      "text/plain": [
       "<Figure size 432x288 with 1 Axes>"
      ]
     },
     "metadata": {
      "needs_background": "light"
     },
     "output_type": "display_data"
    }
   ],
   "source": [
    "# Einen Plot erstellen\n",
    "\n",
    "import matplotlib.pyplot as plt\n",
    "plt.figure(figsize=(3, 3), dpi = 80)\n",
    "\n",
    "data_A = [7, 8, 3, 10]\n",
    "data_B = [3, 2, 3, 5]\n",
    "data_C = [2, 4, 8, 10]\n",
    "serie = [0, 10, 20, 30]\n",
    "\n",
    "plt.plot(serie, data_A, \"x-g\")\n",
    "plt.plot(serie, data_B, \"^-b\")\n",
    "plt.plot(serie, data_C, \"+-r\")\n",
    "plt.legend([\"A\", \"B\", \"C\"])\n",
    "plt.show() \n",
    "\n",
    "# Erstelle die Summe der Werte der einzelnen Liste als Balkenplot dar\n",
    "\n",
    "sum_A = sum(data_A)\n",
    "sum_B = sum(data_B)\n",
    "sum_C = sum(data_C)\n",
    "\n",
    "plt.bar([\"A\", \"B\", \"C\"], [sum_A, sum_B, sum_C])\n",
    "plt.show()"
   ]
  },
  {
   "cell_type": "code",
   "execution_count": 6,
   "metadata": {},
   "outputs": [
    {
     "data": {
      "image/png": "[encoded data removed]",
      "text/plain": [
       "<Figure size 432x288 with 1 Axes>"
      ]
     },
     "metadata": {
      "needs_background": "light"
     },
     "output_type": "display_data"
    },
    {
     "data": {
      "image/png": "[encoded data removed]",
      "text/plain": [
       "<Figure size 432x288 with 1 Axes>"
      ]
     },
     "metadata": {
      "needs_background": "light"
     },
     "output_type": "display_data"
    }
   ],
   "source": [
    "# Matplotlib Varianten\n",
    "\n",
    "plt.plot([0, 10, 17, 24], [30,22,9,30], \"o-g\")\n",
    "plt.show()\n",
    "plt.plot([0,10,17,24], [30,22,9,30], color =\"green\", marker = \"o\", linestyle = \"solid\")\n",
    "plt.show()"
   ]
  },
  {
   "cell_type": "code",
   "execution_count": 34,
   "metadata": {},
   "outputs": [
    {
     "data": {
      "image/png": "[encoded data removed]",
      "text/plain": [
       "<Figure size 432x288 with 1 Axes>"
      ]
     },
     "metadata": {
      "needs_background": "light"
     },
     "output_type": "display_data"
    }
   ],
   "source": [
    "def funktion_quadratisch_2(zahlen):\n",
    "        return [zahl * zahl * 2 for zahl in zahlen]\n",
    "\n",
    "def funktion_quadratisch(zahlen):\n",
    "        return [zahl * zahl for zahl in zahlen]\n",
    "\n",
    "def funktion_linear(zahlen):\n",
    "        return [zahl + zahl for zahl in zahlen]\n",
    "\n",
    "serie = [0, 10, 20, 30]\n",
    "plt.plot([0, 10, 20, 30], funktion_linear(serie), \"o-g\")\n",
    "plt.plot([0, 10, 20, 30], funktion_quadratisch(serie), \"og\")\n",
    "plt.plot([0, 10, 20, 30], funktion_quadratisch_2(serie), \"--r\")\n",
    "plt.legend([\"Linear\", \"Quadratisch\", \"Quadratisch 2\"])\n",
    "plt.show()"
   ]
  },
  {
   "cell_type": "code",
   "execution_count": 36,
   "metadata": {},
   "outputs": [
    {
     "data": {
      "image/png": "[encoded data removed]",
      "text/plain": [
       "<Figure size 432x288 with 1 Axes>"
      ]
     },
     "metadata": {
      "needs_background": "light"
     },
     "output_type": "display_data"
    },
    {
     "data": {
      "image/png": "[encoded data removed]",
      "text/plain": [
       "<Figure size 432x288 with 1 Axes>"
      ]
     },
     "metadata": {
      "needs_background": "light"
     },
     "output_type": "display_data"
    }
   ],
   "source": [
    "# Streudiagramme\n",
    "\n",
    "temperatur = [22, 23, 24, 18, 25, 28, 30, 19, 28, 15, 15]\n",
    "kunden = [323, 312, 322, 212, 353, 456, 653, 203, 412, 102, 50]\n",
    "plt.scatter(temperatur, kunden)\n",
    "plt.show()\n",
    "\n",
    "# man kann Symbole verändern\n",
    "temperatur = [22, 23, 24, 18, 16, 28, 30, 19, 28, 15, 15]\n",
    "kunden = [323, 312, 322, 212, 353, 452, 653, 203, 412, 102, 50]\n",
    "\n",
    "plt.scatter(temperatur, kunden, c = \"green\", s = 80, marker = \"^\")\n",
    "plt.show()"
   ]
  },
  {
   "cell_type": "code",
   "execution_count": 39,
   "metadata": {},
   "outputs": [
    {
     "data": {
      "image/png": "[encoded data removed]",
      "text/plain": [
       "<Figure size 432x288 with 1 Axes>"
      ]
     },
     "metadata": {
      "needs_background": "light"
     },
     "output_type": "display_data"
    },
    {
     "data": {
      "image/png": "[encoded data removed]",
      "text/plain": [
       "<Figure size 432x288 with 1 Axes>"
      ]
     },
     "metadata": {
      "needs_background": "light"
     },
     "output_type": "display_data"
    }
   ],
   "source": [
    "# Daten via Dict übergeben\n",
    "\n",
    "plot_daten = {\n",
    "        \"Daten_x\": [1, 2, 2, 2, 3, 3, 4, 4],\n",
    "        \"Daten_y\": [1, 2, 3, 4, 3, 2, 4, 5],\n",
    "        \"Farbe\": [1, 2, 2, 2, 3, 3, 4, 4],\n",
    "        \"Groeße\": [100, 200, 200, 200, 300, 300, 400, 400]\n",
    "        }\n",
    "plt.scatter(\"Daten_x\", \"Daten_y\", c = \"Farbe\", s = \"Groeße\", data = plot_daten)\n",
    "plt.xlabel(\"Daten_x\")\n",
    "plt.ylabel(\"Daten_y\")\n",
    "plt.show()\n",
    "\n",
    "# Balkenplots gehen nur über eine Liste\n",
    "\n",
    "gruppen = [\"Gruppe 1\", \"Gruppe 2\", \"Gruppe 3\"]\n",
    "werte = [7, 2, 6]\n",
    "plt.bar(gruppen, werte)\n",
    "plt.show()"
   ]
  },
  {
   "cell_type": "code",
   "execution_count": null,
   "metadata": {},
   "outputs": [],
   "source": [
    "# Nützliche Funktionen Matplotlib\n",
    "# Nützliche Funktionen:\n",
    "\n",
    "plt.figure(figsize=(weite, hoehe))     \n",
    "# verändert die Maße des erstellten Bildes\n",
    "plt.subplot(anzahl_reihen, anzahl_spalten, index)\n",
    "# fügt einen Unterplot in ein Bild ein, wobei anzahl_reihen, anzahl_spalten die Maße angeben und index die Positionierung\n",
    "plt.savefig(pfad): \n",
    "# speichert den aktuellen Plot voreingestellt als png-Datei unter dem angegebenen Pfad. Mit dem optionalen Parameter format können auch .jpeg oder Vektorgrafiken erstellt werden. Mit dem optionalen Parameter dpi legst du die Auflösung fest. \n",
    "plt.title(title): \n",
    "# erstellt eine Überschrift für den aktuellen (Sub-)Plot mit dem Eingabestring title\n",
    "title.plt.suptitle(title):  \n",
    "#erstellt eine Überschrift für den aktuellen Plot mit dem Eingabestring title\n"
   ]
  },
  {
   "cell_type": "code",
   "execution_count": 40,
   "metadata": {},
   "outputs": [
    {
     "data": {
      "image/png": "[encoded data removed]",
      "text/plain": [
       "<Figure size 648x288 with 3 Axes>"
      ]
     },
     "metadata": {
      "needs_background": "light"
     },
     "output_type": "display_data"
    }
   ],
   "source": [
    "# Noch ein Beispiel\n",
    "gruppen = [\"A\", \"B\", \"C\"]\n",
    "werte = [7, 2, 6]\n",
    "\n",
    "plt.figure(figsize=(9, 4))\n",
    "\n",
    "plt.subplot(131)\n",
    "plt.plot(gruppen, werte)\n",
    "plt.title(\"Linien\")\n",
    "plt.subplot(132)\n",
    "plt.scatter(gruppen, werte)\n",
    "plt.title(\"Punkte\")\n",
    "plt.subplot(133)\n",
    "plt.bar(gruppen, werte)\n",
    "plt.title(\"Balken\")\n",
    "plt.suptitle(\"Beispiel\")\n",
    "plt.show()"
   ]
  },
  {
   "cell_type": "code",
   "execution_count": 7,
   "metadata": {},
   "outputs": [
    {
     "name": "stdout",
     "output_type": "stream",
     "text": [
      "Honda 150 8\n"
     ]
    }
   ],
   "source": [
    "# C4\n",
    "# 1\n",
    "class Auto:\n",
    "    def __init__(self, marke, geschwindigkeit, verbrauch ):\n",
    "        self.marke = marke\n",
    "        self.geschwindigkeit = geschwindigkeit\n",
    "        self.verbrauch = verbrauch\n",
    "        \n",
    "auto = Auto(\"Honda\", 150,8)\n",
    "print(auto.marke, auto.geschwindigkeit, auto.verbrauch)\n"
   ]
  },
  {
   "cell_type": "code",
   "execution_count": 3,
   "metadata": {},
   "outputs": [
    {
     "name": "stdout",
     "output_type": "stream",
     "text": [
      "Honda 150 8 5 1\n"
     ]
    }
   ],
   "source": [
    "# C4\n",
    "# 2\n",
    "class Auto:\n",
    "    anzahl_erstellte_autos = 0\n",
    "    def __init__(self, marke, geschwindigkeit, verbrauch, sitzplaetze = 5 ):\n",
    "        self.marke = marke\n",
    "        self.geschwindigkeit = geschwindigkeit\n",
    "        self.verbrauch = verbrauch\n",
    "        self.sitzplaetze = sitzplaetze\n",
    "        # auf das Klasssenattribut zugreifen\n",
    "        self.anzahl_erstellte_autos = self.anzahl_erstellte_autos + 1\n",
    "auto = Auto(\"Honda\", 150,8)\n",
    "print(auto.marke, auto.geschwindigkeit, auto.verbrauch, auto.sitzplaetze, auto.anzahl_erstellte_autos)"
   ]
  },
  {
   "cell_type": "code",
   "execution_count": 12,
   "metadata": {},
   "outputs": [
    {
     "name": "stdout",
     "output_type": "stream",
     "text": [
      "Ein Auto der Marke Honda. Es fährt 150 und verbraucht dabei 8 auf 100 Kilometern. Es hat 5 Sitzplätze.\n"
     ]
    }
   ],
   "source": [
    "# C4\n",
    "# 3\n",
    "class Auto:\n",
    "    \n",
    "    def __init__(self, marke, geschwindigkeit, verbrauch, sitzplaetze = 5 ):\n",
    "        self.marke = marke\n",
    "        self.geschwindigkeit = geschwindigkeit\n",
    "        self.verbrauch = verbrauch\n",
    "        self.sitzplaetze = sitzplaetze\n",
    "    def datenblatt(self):\n",
    "        print(\"Ein Auto der Marke Honda. Es fährt {geschwindigkeit} und verbraucht dabei {verbrauch} auf 100 Kilometern. Es hat {sitzplaetze} Sitzplätze.\".format(geschwindigkeit=self.geschwindigkeit, verbrauch = self.verbrauch, sitzplaetze=self.sitzplaetze))\n",
    "     \n",
    "auto = Auto(\"Honda\", 150,8)\n",
    "auto.datenblatt()"
   ]
  },
  {
   "cell_type": "code",
   "execution_count": 4,
   "metadata": {},
   "outputs": [
    {
     "name": "stdout",
     "output_type": "stream",
     "text": [
      "1\n",
      "2\n",
      "3\n",
      "Ein Auto der Marke Honda. Es fährt 150 km/h und verbraucht dabei 8 Liter auf 100 Kilometern. Es hat 5 Sitzplätze. Das Auto hat einen Defekt\n",
      "Ein Auto der Marke Ford. Es fährt 130 km/h und verbraucht dabei 7 Liter auf 100 Kilometern. Es hat 5 Sitzplätze.\n",
      "Ein Auto der Marke Porsche. Es fährt 250 km/h und verbraucht dabei 15 Liter auf 100 Kilometern. Es hat 5 Sitzplätze. Das Auto hat einen Defekt\n"
     ]
    }
   ],
   "source": [
    "# C4\n",
    "# 4\n",
    "class Auto:\n",
    "\n",
    "    anzahl_erstellte_autos = 0\n",
    "    \n",
    "    def __init__(self, marke, geschwindigkeit, verbrauch, sitzplaetze = 5 ):\n",
    "        self.marke = marke\n",
    "        self.geschwindigkeit = geschwindigkeit\n",
    "        self.verbrauch = verbrauch\n",
    "        self.sitzplaetze = sitzplaetze\n",
    "        Auto.anzahl_erstellte_autos = Auto.anzahl_erstellte_autos + 1\n",
    "        if (self.anzahl_erstellte_autos % 2 == 1):\n",
    "            self.defekt = True\n",
    "        else:\n",
    "            self.defekt = False\n",
    "    \n",
    "    def datenblatt(self):\n",
    "        if self.defekt:\n",
    "            print(\"Ein Auto der Marke {marke}. Es fährt {geschwindigkeit} km/h und verbraucht dabei {verbrauch} Liter auf 100 Kilometern. Es hat {sitzplaetze} Sitzplätze. Das Auto hat einen Defekt\".format(marke = self.marke, geschwindigkeit=self.geschwindigkeit, verbrauch = self.verbrauch, sitzplaetze=self.sitzplaetze))\n",
    "        else:\n",
    "            print(\"Ein Auto der Marke {marke}. Es fährt {geschwindigkeit} km/h und verbraucht dabei {verbrauch} Liter auf 100 Kilometern. Es hat {sitzplaetze} Sitzplätze.\".format(marke = self.marke, geschwindigkeit=self.geschwindigkeit, verbrauch = self.verbrauch, sitzplaetze=self.sitzplaetze))\n",
    "\n",
    "auto1 = Auto(\"Honda\", 150,8)\n",
    "print(Auto.anzahl_erstellte_autos)\n",
    "auto2 = Auto(\"Ford\", 130, 7)\n",
    "print(Auto.anzahl_erstellte_autos)\n",
    "auto3 = Auto(\"Porsche\", 250,15)\n",
    "print(Auto.anzahl_erstellte_autos)\n",
    "\n",
    "auto1.datenblatt()   \n",
    "auto2.datenblatt()\n",
    "auto3.datenblatt() "
   ]
  },
  {
   "cell_type": "code",
   "execution_count": 25,
   "metadata": {},
   "outputs": [
    {
     "name": "stdout",
     "output_type": "stream",
     "text": [
      "1\n",
      "2\n",
      "3\n",
      "Ein Auto der Marke Honda. Es fährt 150 km/h und verbraucht dabei 8 Liter auf 100 Kilometern. Es hat 5 Sitzplätze.\n",
      "Ein Auto der Marke Honda. Es fährt 150 km/h und verbraucht dabei 8 Liter auf 100 Kilometern. Es hat 5 Sitzplätze. Das Auto hat einen Defekt\n",
      "Das Auto Honda wurde in der Werkstatt repariert.\n",
      "Ein Auto der Marke Ford. Es fährt 130 km/h und verbraucht dabei 7 Liter auf 100 Kilometern. Es hat 5 Sitzplätze.\n",
      "Diese Fahr in die werkstatt ist umsonst.\n",
      "Ein Auto der Marke Porsche. Es fährt 250 km/h und verbraucht dabei 15 Liter auf 100 Kilometern. Es hat 5 Sitzplätze.\n",
      "Ein Auto der Marke Porsche. Es fährt 250 km/h und verbraucht dabei 15 Liter auf 100 Kilometern. Es hat 5 Sitzplätze. Das Auto hat einen Defekt\n",
      "Das Auto Porsche wurde in der Werkstatt repariert.\n"
     ]
    }
   ],
   "source": [
    "# C4\n",
    "# 5\n",
    "class Auto:\n",
    "    anzahl_erstellte_autos = 0\n",
    "    def __init__(self, marke, geschwindigkeit, verbrauch, sitzplaetze = 5 ):\n",
    "        self.marke = marke\n",
    "        self.geschwindigkeit = geschwindigkeit\n",
    "        self.verbrauch = verbrauch\n",
    "        self.sitzplaetze = sitzplaetze\n",
    "        Auto.anzahl_erstellte_autos = Auto.anzahl_erstellte_autos + 1\n",
    "        if( self.anzahl_erstellte_autos % 2 == 1):\n",
    "            self.defekt = True\n",
    "        else:\n",
    "            self.defekt = False\n",
    "    def datenblatt(self):\n",
    "        print(\"Ein Auto der Marke {marke}. Es fährt {geschwindigkeit} km/h und verbraucht dabei {verbrauch} Liter auf 100 Kilometern. Es hat {sitzplaetze} Sitzplätze.\".format(marke = self.marke, geschwindigkeit=self.geschwindigkeit, verbrauch = self.verbrauch, sitzplaetze=self.sitzplaetze))\n",
    "        if self.defekt:\n",
    "            print(\"Ein Auto der Marke {marke}. Es fährt {geschwindigkeit} km/h und verbraucht dabei {verbrauch} Liter auf 100 Kilometern. Es hat {sitzplaetze} Sitzplätze. Das Auto hat einen Defekt\".format(marke = self.marke, geschwindigkeit=self.geschwindigkeit, verbrauch = self.verbrauch, sitzplaetze=self.sitzplaetze))\n",
    "    def reparieren(self):\n",
    "        if self.defekt:\n",
    "         print(\"Das Auto {marke} wurde in der Werkstatt repariert.\".format(marke=self.marke))\n",
    "        else:\n",
    "            print(\"Diese Fahr in die werkstatt ist umsonst.\")\n",
    "    \n",
    "auto1 = Auto(\"Honda\", 150,8)\n",
    "print(Auto.anzahl_erstellte_autos)\n",
    "auto2 = Auto(\"Ford\", 130, 7)\n",
    "print(Auto.anzahl_erstellte_autos)\n",
    "auto3 = Auto(\"Porsche\", 250,15)\n",
    "print(Auto.anzahl_erstellte_autos)\n",
    "\n",
    "auto1.datenblatt() \n",
    "auto1.reparieren()  \n",
    "auto2.datenblatt()\n",
    "auto2.reparieren() \n",
    "auto3.datenblatt()\n",
    "auto3.reparieren() "
   ]
  },
  {
   "cell_type": "code",
   "execution_count": 27,
   "metadata": {},
   "outputs": [
    {
     "name": "stdout",
     "output_type": "stream",
     "text": [
      "1\n",
      "2\n",
      "3\n",
      "Ein Auto der Marke Honda. Es fährt 150 km/h und verbraucht dabei 8 Liter auf 100 Kilometern. Es hat 5 Sitzplätze.\n",
      "Ein Auto der Marke Honda. Es fährt 150 km/h und verbraucht dabei 8 Liter auf 100 Kilometern. Es hat 5 Sitzplätze. Das Auto hat einen Defekt\n",
      "Das Auto Honda wurde in der Werkstatt repariert.\n",
      "Bei der Inspektion wurde ein Defekt festgestellt. Das Auto ist nicht durch die Inspektion gekommen\n",
      "Ein Auto der Marke Ford. Es fährt 130 km/h und verbraucht dabei 7 Liter auf 100 Kilometern. Es hat 5 Sitzplätze.\n",
      "Diese Fahr in die werkstatt ist umsonst.\n",
      "Ein Auto der Marke Porsche. Es fährt 250 km/h und verbraucht dabei 15 Liter auf 100 Kilometern. Es hat 5 Sitzplätze.\n",
      "Ein Auto der Marke Porsche. Es fährt 250 km/h und verbraucht dabei 15 Liter auf 100 Kilometern. Es hat 5 Sitzplätze. Das Auto hat einen Defekt\n",
      "Das Auto Porsche wurde in der Werkstatt repariert.\n"
     ]
    }
   ],
   "source": [
    "# C4\n",
    "# 6\n",
    "class Auto:\n",
    "    anzahl_erstellte_autos = 0\n",
    "    def __init__(self, marke, geschwindigkeit, verbrauch, sitzplaetze = 5 ):\n",
    "        self.marke = marke\n",
    "        self.geschwindigkeit = geschwindigkeit\n",
    "        self.verbrauch = verbrauch\n",
    "        self.sitzplaetze = sitzplaetze\n",
    "        Auto.anzahl_erstellte_autos = Auto.anzahl_erstellte_autos + 1\n",
    "        if( self.anzahl_erstellte_autos % 2 == 1):\n",
    "            self.defekt = True\n",
    "        else:\n",
    "            self.defekt = False\n",
    "    def datenblatt(self):\n",
    "        print(\"Ein Auto der Marke {marke}. Es fährt {geschwindigkeit} km/h und verbraucht dabei {verbrauch} Liter auf 100 Kilometern. Es hat {sitzplaetze} Sitzplätze.\".format(marke = self.marke, geschwindigkeit=self.geschwindigkeit, verbrauch = self.verbrauch, sitzplaetze=self.sitzplaetze))\n",
    "        if self.defekt:\n",
    "            print(\"Ein Auto der Marke {marke}. Es fährt {geschwindigkeit} km/h und verbraucht dabei {verbrauch} Liter auf 100 Kilometern. Es hat {sitzplaetze} Sitzplätze. Das Auto hat einen Defekt\".format(marke = self.marke, geschwindigkeit=self.geschwindigkeit, verbrauch = self.verbrauch, sitzplaetze=self.sitzplaetze))\n",
    "    def reparieren(self):\n",
    "        if self.defekt:\n",
    "         print(\"Das Auto {marke} wurde in der Werkstatt repariert.\".format(marke=self.marke))\n",
    "        else:\n",
    "            print(\"Diese Fahr in die werkstatt ist umsonst.\")\n",
    "    def inspektion(self):\n",
    "        if self.defekt:\n",
    "            self.defekt = True\n",
    "            print(\"Bei der Inspektion wurde ein Defekt festgestellt. Das Auto ist nicht durch die Inspektion gekommen\")\n",
    "        else:\n",
    "            print(\"Das Auto ist durch die Inspektion gekommen\")\n",
    "    \n",
    "auto1 = Auto(\"Honda\", 150,8)\n",
    "print(Auto.anzahl_erstellte_autos)\n",
    "auto2 = Auto(\"Ford\", 130, 7)\n",
    "print(Auto.anzahl_erstellte_autos)\n",
    "auto3 = Auto(\"Porsche\", 250,15)\n",
    "print(Auto.anzahl_erstellte_autos)\n",
    "\n",
    "auto1.datenblatt() \n",
    "auto1.reparieren() \n",
    "auto1.inspektion() \n",
    "auto2.datenblatt()\n",
    "auto2.reparieren() \n",
    "auto3.datenblatt()\n",
    "auto3.reparieren() "
   ]
  },
  {
   "cell_type": "code",
   "execution_count": 31,
   "metadata": {},
   "outputs": [
    {
     "name": "stdout",
     "output_type": "stream",
     "text": [
      "['K', 't']\n"
     ]
    }
   ],
   "source": [
    "s = \"Karriere Tutor!\"\n",
    "s = s.lower()\n",
    "s = s.capitalize()\n",
    "s = s.split(\" \")\n",
    "s = [c[0] for c in s]\n",
    "print(s)"
   ]
  },
  {
   "cell_type": "code",
   "execution_count": 33,
   "metadata": {},
   "outputs": [
    {
     "name": "stdout",
     "output_type": "stream",
     "text": [
      "[4, 5, 4, 3]\n"
     ]
    }
   ],
   "source": [
    "liste = list(range(6))\n",
    "\n",
    "liste.pop(3)\n",
    "\n",
    "liste.extend([3,4,3])\n",
    "\n",
    "liste.remove(3)\n",
    "\n",
    "del liste[:3]\n",
    "print(liste)"
   ]
  },
  {
   "cell_type": "code",
   "execution_count": 35,
   "metadata": {},
   "outputs": [
    {
     "name": "stdout",
     "output_type": "stream",
     "text": [
      "2439423196672\n",
      "2439423196672\n",
      "2439423196672\n"
     ]
    }
   ],
   "source": [
    "liste = [1,2,3]\n",
    "def manipulation(input_liste):\n",
    "     input_liste[1] = 4\n",
    "     print(id(input_liste))\n",
    "     return input_liste\n",
    "\n",
    "print(id(liste))\n",
    "print(id(manipulation(liste)))"
   ]
  },
  {
   "cell_type": "code",
   "execution_count": null,
   "metadata": {},
   "outputs": [],
   "source": [
    "import csv\n",
    "\n",
    "datei = open(\"Datei.csv\")\n",
    "einleser = csv.reader(datei)\n",
    "\n",
    "for reihe in einleser:\n",
    "     print(reihe)\n",
    "datei.close()"
   ]
  },
  {
   "cell_type": "code",
   "execution_count": 1,
   "metadata": {},
   "outputs": [
    {
     "name": "stdout",
     "output_type": "stream",
     "text": [
      "1.5\n"
     ]
    },
    {
     "data": {
      "text/plain": [
       "3"
      ]
     },
     "execution_count": 1,
     "metadata": {},
     "output_type": "execute_result"
    }
   ],
   "source": [
    "A = 10\n",
    "A = A//3\n",
    "A = A/2\n",
    "print(A)\n",
    "\n",
    "zahlen = [1,2,3,4,5]\n",
    "zahlen[len(zahlen)-4]\n",
    "zahlen[-2+4]"
   ]
  },
  {
   "cell_type": "code",
   "execution_count": 5,
   "metadata": {},
   "outputs": [
    {
     "data": {
      "text/plain": [
       "0"
      ]
     },
     "execution_count": 5,
     "metadata": {},
     "output_type": "execute_result"
    }
   ],
   "source": [
    "124125452550 % 2"
   ]
  },
  {
   "cell_type": "code",
   "execution_count": 9,
   "metadata": {},
   "outputs": [
    {
     "name": "stdout",
     "output_type": "stream",
     "text": [
      "25\n"
     ]
    }
   ],
   "source": [
    "a=5**2\n",
    "print(a)"
   ]
  },
  {
   "cell_type": "code",
   "execution_count": 10,
   "metadata": {},
   "outputs": [
    {
     "name": "stdout",
     "output_type": "stream",
     "text": [
      "1\n",
      "0\n"
     ]
    }
   ],
   "source": [
    "x = 0\n",
    "\n",
    "def funktion ():\n",
    "     x = 1\n",
    "     print(x)\n",
    "\n",
    "funktion()\n",
    "print(x)"
   ]
  },
  {
   "cell_type": "code",
   "execution_count": 12,
   "metadata": {},
   "outputs": [
    {
     "data": {
      "text/plain": [
       "True"
      ]
     },
     "execution_count": 12,
     "metadata": {},
     "output_type": "execute_result"
    }
   ],
   "source": [
    "(1,2)>(0,1)\n",
    "(1,)<(2,0)"
   ]
  },
  {
   "cell_type": "code",
   "execution_count": 15,
   "metadata": {},
   "outputs": [
    {
     "name": "stdout",
     "output_type": "stream",
     "text": [
      "[3]\n"
     ]
    }
   ],
   "source": [
    "l=[1, 2, 3, 4, 5, 6]\n",
    "print(l[2:4:2])"
   ]
  },
  {
   "cell_type": "code",
   "execution_count": 16,
   "metadata": {},
   "outputs": [
    {
     "data": {
      "text/plain": [
       "[1, -2, -5, -8]"
      ]
     },
     "execution_count": 16,
     "metadata": {},
     "output_type": "execute_result"
    }
   ],
   "source": [
    "list(range(1, -11, -3))"
   ]
  },
  {
   "cell_type": "code",
   "execution_count": 22,
   "metadata": {},
   "outputs": [
    {
     "data": {
      "text/plain": [
       "[0, 2, 4, 6, 8]"
      ]
     },
     "execution_count": 22,
     "metadata": {},
     "output_type": "execute_result"
    }
   ],
   "source": [
    "list(range(0, 10, 2))"
   ]
  },
  {
   "cell_type": "code",
   "execution_count": 26,
   "metadata": {},
   "outputs": [
    {
     "data": {
      "text/plain": [
       "'Johannes'"
      ]
     },
     "execution_count": 26,
     "metadata": {},
     "output_type": "execute_result"
    }
   ],
   "source": [
    "max(\"Berta\", \"Hubert\", \"Johannes\",\"Dieter\")"
   ]
  },
  {
   "cell_type": "code",
   "execution_count": 29,
   "metadata": {},
   "outputs": [
    {
     "data": {
      "text/plain": [
       "0"
      ]
     },
     "execution_count": 29,
     "metadata": {},
     "output_type": "execute_result"
    }
   ],
   "source": [
    "124125452550 % 2"
   ]
  },
  {
   "cell_type": "code",
   "execution_count": 33,
   "metadata": {},
   "outputs": [
    {
     "data": {
      "text/plain": [
       "[1, -2, -5, -8]"
      ]
     },
     "execution_count": 33,
     "metadata": {},
     "output_type": "execute_result"
    }
   ],
   "source": [
    "list(range(1, -11, -3))"
   ]
  },
  {
   "cell_type": "code",
   "execution_count": 35,
   "metadata": {},
   "outputs": [
    {
     "name": "stdout",
     "output_type": "stream",
     "text": [
      "[4, 5, 4, 3]\n"
     ]
    }
   ],
   "source": [
    "liste = list(range(6))\n",
    "\n",
    "liste.pop(3)\n",
    "\n",
    "liste.extend([3,4,3])\n",
    "\n",
    "liste.remove(3)\n",
    "\n",
    "del liste[:3]\n",
    "print(liste)"
   ]
  },
  {
   "cell_type": "code",
   "execution_count": 4,
   "metadata": {},
   "outputs": [
    {
     "data": {
      "image/png": "[encoded data removed]",
      "text/plain": [
       "<Figure size 432x288 with 1 Axes>"
      ]
     },
     "metadata": {
      "needs_background": "light"
     },
     "output_type": "display_data"
    }
   ],
   "source": [
    "import matplotlib.pyplot as plt\n",
    "from math import sin\n",
    "\n",
    "float_liste = [x / 10.0 for x in range(5, 150)]\n",
    "sin_werte = [sin(x) for x in float_liste]\n",
    "\n",
    "plt.bar (float_liste, sin_werte)\n",
    "plt.show()"
   ]
  },
  {
   "cell_type": "code",
   "execution_count": 17,
   "metadata": {},
   "outputs": [
    {
     "name": "stdout",
     "output_type": "stream",
     "text": [
      "Product Codes,Price,Client,Client Code,Orders,Total,,Left,Right,Mid,Trim\n",
      "51993Masc,$9.98,Candy's Beauty Supply,PINNC980,191,\"$1,906.18\",,51993,Masc,NC,Candy's Beauty Supply\n",
      "49631Foun,$14.49,Rockland's,ARLVA283,152,\"$2,202.48\",,49631,Foun,VA,Rockland's\n",
      "42292Glos,$6.74,Rudiger Pharmacy,CHEMD763,758,\"$5,108.92\",,42292,Glos,MD,Rudiger Pharmacy\n",
      "86661Shad,$5.71,Elizabethtown Supply,COLSC761,308,\"$1,758.68\",,86661,Shad,SC,Elizabethtown Supply\n",
      "49541Eyel,$7.94,Rockland's,ARLVA425,50,$397.00,,49541,Eyel,VA,Rockland's\n",
      "58337Foun,$13.57,Candy's Beauty Supply,PINNC939,673,\"$9,132.61\",,58337,Foun,NC,Candy's Beauty Supply\n",
      "40014Masc,$8.46,Elizabethtown Supply,COLSC649,94,$795.24,,40014,Masc,SC,Elizabethtown Supply\n",
      "86139Lips,$5.55,Candy's Beauty Supply,PINNC496,299,\"$1,659.45\",,86139,Lips,NC,Candy's Beauty Supply\n",
      "69601Exfo,$11.05,Rockland's,ARLVA851,850,\"$9,392.50\",,69601,Exfo,VA,Rockland's\n",
      "25331Glos,$7.58,Rockland's,ARLVA924,169,\"$1,281.02\",,25331,Glos,VA,Rockland's\n",
      "85021Foun,$11.75,Rudiger Pharmacy,CHEMD339,707,\"$8,307.25\",,85021,Foun,MD,Rudiger Pharmacy\n",
      "69030Masc,$10.95,Elizabethtown Supply,COLSC970,461,\"$5,047.95\",,69030,Masc,SC,Elizabethtown Supply\n",
      "13230Masc,$11.73,Rockland's,ARLVA519,78,$914.94,,13230,Masc,VA,Rockland's\n",
      "91559Eyel,$6.66,Candy's Beauty Supply,PINNC674,444,\"$2,957.04\",,91559,Eyel,NC,Candy's Beauty Supply\n",
      "62289Masc,$12.06,Elizabethtown Supply,COLSC887,797,\"$9,611.82\",,62289,Masc,SC,Elizabethtown Supply\n",
      "64762Foun,$12.95,Rudiger Pharmacy,CHEMD913,355,\"$4,597.25\",,64762,Foun,MD,Rudiger Pharmacy\n",
      "52341Foun,$13.09,Elizabethtown Supply,COLSC741,232,\"$3,036.88\",,52341,Foun,SC,Elizabethtown Supply\n",
      "68713Exfo,$15.77,   Rockland's,ARLVA727,514,\"$8,105.78\",,68713,Exfo,VA,Rockland's\n",
      "35073Foun,$11.82,Elizabethtown Supply,COLSC813,189,\"$2,233.98\",,35073,Foun,SC,Elizabethtown Supply\n",
      "17691Masc,$11.22,Elizabethtown Supply,COLSC533,621,\"$6,967.62\",,17691,Masc,SC,Elizabethtown Supply\n",
      "03485Eyel,$7.00,Rudiger Pharmacy,CHEMD887,461,\"$3,227.00\",,03485,Eyel,MD,Rudiger Pharmacy\n",
      "26156Foun,$12.01,Candy's Beauty Supply,PINNC615,146,\"$1,753.46\",,26156,Foun,NC,Candy's Beauty Supply\n",
      "75112Foun,$13.24,Elizabethtown Supply,COLSC133,261,\"$3,455.64\",,75112,Foun,SC,Elizabethtown Supply\n",
      "96799Foun,$10.07,Rudiger Pharmacy,CHEMD365,602,\"$6,062.14\",,96799,Foun,MD,Rudiger Pharmacy\n",
      "20559Shad,$4.33,Elizabethtown Supply,COLSC201,225,$974.25,,20559,Shad,SC,Elizabethtown Supply\n",
      "32729Masc,$13.13,Elizabethtown Supply,COLSC481,972,\"$12,762.36\",,32729,Masc,SC,Elizabethtown Supply\n",
      "63094Exfo,$16.94,Candy's Beauty Supply,PINNC547,362,\"$6,132.28\",,63094,Exfo,NC,Candy's Beauty Supply\n",
      "61207Foun,$9.83,Rudiger Pharmacy,CHEMD323,588,\"$5,780.04\",,61207,Foun,MD,Rudiger Pharmacy\n",
      "17269Masc,$14.95,Rockland's,ARLVA876,381,\"$5,695.95\",,17269,Masc,VA,Rockland's\n",
      "15143Exfo,$20.04,Rudiger Pharmacy,CHEMD584,782,\"$15,671.28\",,15143,Exfo,MD,Rudiger Pharmacy\n"
     ]
    }
   ],
   "source": [
    "import csv\n",
    "csv.reader(datei)\n",
    "open(\"Cosmetics_.csv\")\n",
    "datei = open(\"Cosmetics_.csv\")\n",
    "einleser = csv.DictReader(datei)\n",
    "print(datei.read())\n",
    "datei.close()\n"
   ]
  }
 ],
 "metadata": {
  "kernelspec": {
   "display_name": "Python 3",
   "language": "python",
   "name": "python3"
  },
  "language_info": {
   "codemirror_mode": {
    "name": "ipython",
    "version": 3
   },
   "file_extension": ".py",
   "mimetype": "text/x-python",
   "name": "python",
   "nbconvert_exporter": "python",
   "pygments_lexer": "ipython3",
   "version": "3.6.5"
  },
  "orig_nbformat": 4,
  "vscode": {
   "interpreter": {
    "hash": "ad2bdc8ecc057115af97d19610ffacc2b4e99fae6737bb82f5d7fb13d2f2c186"
   }
  }
 },
 "nbformat": 4,
 "nbformat_minor": 2
}
